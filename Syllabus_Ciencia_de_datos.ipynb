{
 "cells": [
  {
   "cell_type": "markdown",
   "metadata": {},
   "source": [
    "<h1 align='center'> Curso de Ciencia de Datos</h1> \n",
    "\n",
    "<h3>Autor</h3>\n",
    "\n",
    "1. Alvaro Mauricio Montenegro Díaz, ammontenegrod@unal.edu.co\n",
    "2. Daniel Mauricio Montenegro Reyes, dextronomo@gmail.com \n",
    "\n",
    "<h3>Fork</h3>\n",
    "\n",
    "<h3>Referencias</h3>\n",
    "\n",
    "1.  Christofer. M. Bishop, *Pattern Recognition and machine Learning*, first edition,Springer, 2006\n",
    "2. Solomon Kullback, *Information Theory and Statistics*, Dover Publications, Inc, 1968\n",
    "3. Robert B.  Ash, *Information Theory*, Dover Publications, Inc, 1990.\n",
    "4. James V Stone, [Information Theory: A Tutorial Introduction](https://arxiv.org/pdf/1802.05968.pdf)\n",
    "\n",
    "\n",
    "<h3>Lenguajes de Programación </h3>\n",
    "\n",
    "Python, R, Tensorflow, sobre JupyterLab."
   ]
  },
  {
   "cell_type": "markdown",
   "metadata": {},
   "source": [
    "<h3> Evaluación </h3>\n",
    "\n",
    "1. Un proyecto que será desarrollado por máximo dos personas a lo largo del curso. Total 80%\n",
    "3. Una exposición final sobre el proyecto. Total 20%."
   ]
  },
  {
   "cell_type": "markdown",
   "metadata": {},
   "source": [
    "<h2 align='center'> Contenido del curso</h2>\n",
    "\n",
    "<h3>  Preliminares</h3>\n",
    "\n",
    "1. [Teoría de la Información.](./Cuadernos/Teoria_Informacion.ipynb)\n",
    "2. [Diferenciación automática](./Cuadernos/JAX_AutoDiff.ipynb),  [Diferenciación automática usando Tensorflow 2.1](./Cuadernos/AutoDiff_tf_2.ipynb)\n",
    "3. [Métodos de Optimización estocástica modernos](./Cuadernos/Optimizacion_M_Aprendizaje.ipynb)\n",
    "4. [Tensores y Algebra de Tensores](./Cuadernos/Intro_tensores.ipynb), [Introducción a Numpy](./Cuadernos/Intro_Numpy.ipynb)\n",
    "\n",
    "<h3> Conceptos de dimensión</h3>\n",
    "\n",
    "1. El curso de la dimensionalidad.\n",
    "2. Distribuciones de probabilidad en dimensiones grandes.\n",
    "3. Sobre transformaciones topológicas. Concepto de sumergimiento (embedding) en dimensiones más altas.\n",
    "3. Dimensión intrínsica de un conjunto de datos.\n",
    "4. Codificación y decodificación. Pérdida de información.\n",
    "5. Reducción de datos normales. Análisis de componentes Principales (ACP)\n",
    "6. PCA probabilístico.\n",
    "7. Reducción de datos no normales. Análisis de componentes Independientes (ICA)\n",
    "8. Isomap.\n",
    "\n",
    "<h3> Visualización de datos de altas dimensiones</h3>\n",
    "\n",
    "1. Planos Factoriales\n",
    "2. Escalamiento Multidimensional (MDS)\n",
    "3. Mapas Auto Organizados. (SOM)\n",
    "\n",
    "<h3> Modelos de Regresión</h3>\n",
    "\n",
    "1. [Modelos lineales de regresión](./Cuadernos/Regresion_Lineal_tf_2.ipynb),  [Regresión Lineal Múltiple](./Cuadernos/Regresion_Lineal_Multiple_tf_2.ipynb)\n",
    "2. Estimación secuencial en modelos lineales de regresión\n",
    "3. Regularización\n",
    "4. Modelos lineales Bayesianos\n",
    "5. Modelos lineales Generalizados\n",
    "6. Modelos Gamlss\n",
    "\n",
    "<h3> Modelos de Clasificación</h3>\n",
    "\n",
    "1. [Modelos Lineales de clasificación](./Cuadernos/Logistic_Reg_AutoDiff.ipynb), [Ejemplo: Red Neuronal XOR](./Cuadernos/Autodif_XOR_func.ipynb), [Regresión Logística con Tensorflow](./Cuadernos/Logistic_Reg_tf2.ipynb)\n",
    "2. Métodos Kernel\n",
    "\n",
    "<h3> Aprendizaje no supervisado</h3>\n",
    "\n",
    "1. Reglas de asociación\n",
    "2. Análisis de clusters\n",
    "3. Mapas auto-organizados\n",
    "\n",
    "<h3> Aprendizaje  supervisado</h3>\n",
    "\n",
    "1. Máquinas de soporte vectorial (SVM)\n",
    "2. [Redes Neuronales](./Cuadernos/Intro_RNA.ipynb), [Red Neuronal desde cero usando keras](./Cuadernos/RNA_desde_cero_intro_keras.ipynb)\n",
    "3. Aprendizaje profundo\n",
    "4. Redes convolucionadas\n",
    "5. Redes recurrentes\n",
    "6. Autocodificadores Variacionales\n",
    "7. Redes neuronales generativas. Redes adversarias\n",
    "8. Aprendizaje reforzado\n",
    "\n",
    "<h3> Introducción a Inteligencia Artificial</h3>\n",
    "\n",
    "1. Agentes, ambientes, tareas\n",
    "2. Resolución de problemas\n",
    "3. Resolución de problemas bajo incertidumbre\n",
    "4. Aprendizaje"
   ]
  },
  {
   "cell_type": "markdown",
   "metadata": {},
   "source": [
    "<h2 align='center'>Inteligencia Artificial hoy</h2>\n",
    "\n",
    "\n",
    "Los agentes de IA entrenados por OpenAI jugaron 481 millones de juegos de escondite, muestran algunos comportamientos sorprendentes.\n",
    "\n",
    "[Gym Open AI](https://gym.openai.com/)\n",
    "\n",
    "[Artículo y video](https://openai.com/blog/emergent-tool-use/)"
   ]
  },
  {
   "cell_type": "markdown",
   "metadata": {},
   "source": [
    "[Desarrollos Aterradores de la IA](https://www.youtube.com/watch?v=IEBMi_LuFzE)"
   ]
  }
 ],
 "metadata": {
  "kernelspec": {
   "display_name": "Python 3",
   "language": "python",
   "name": "python3"
  },
  "language_info": {
   "codemirror_mode": {
    "name": "ipython",
    "version": 3
   },
   "file_extension": ".py",
   "mimetype": "text/x-python",
   "name": "python",
   "nbconvert_exporter": "python",
   "pygments_lexer": "ipython3",
   "version": "3.7.5"
  }
 },
 "nbformat": 4,
 "nbformat_minor": 4
}
