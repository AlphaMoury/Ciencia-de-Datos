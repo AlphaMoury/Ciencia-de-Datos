{
 "cells": [
  {
   "cell_type": "code",
   "execution_count": 2,
   "metadata": {},
   "outputs": [
    {
     "name": "stdout",
     "output_type": "stream",
     "text": [
      "/home/alvaro/modules\n",
      "/home/alvaro/anaconda3/envs/m_learning/lib/python37.zip\n",
      "/home/alvaro/anaconda3/envs/m_learning/lib/python3.7\n",
      "/home/alvaro/anaconda3/envs/m_learning/lib/python3.7/lib-dynload\n",
      "\n",
      "/home/alvaro/anaconda3/envs/m_learning/lib/python3.7/site-packages\n",
      "/home/alvaro/anaconda3/envs/m_learning/lib/python3.7/site-packages/IPython/extensions\n",
      "/home/alvaro/.ipython\n"
     ]
    }
   ],
   "source": [
    "import sys\n",
    "# to append an element to the path\n",
    "#sys.path.append('/home/alvaro/modules')\n",
    "# to remove an element from the path\n",
    "#sys.path.remove('/home/alvaro/Modules')\n",
    "\n",
    "# list the elements in path\n",
    "for p in sys.path:\n",
    "    print(p)"
   ]
  },
  {
   "cell_type": "code",
   "execution_count": 9,
   "metadata": {},
   "outputs": [],
   "source": []
  },
  {
   "cell_type": "code",
   "execution_count": null,
   "metadata": {},
   "outputs": [],
   "source": []
  }
 ],
 "metadata": {
  "kernelspec": {
   "display_name": "Python 3",
   "language": "python",
   "name": "python3"
  },
  "language_info": {
   "codemirror_mode": {
    "name": "ipython",
    "version": 3
   },
   "file_extension": ".py",
   "mimetype": "text/x-python",
   "name": "python",
   "nbconvert_exporter": "python",
   "pygments_lexer": "ipython3",
   "version": "3.7.4"
  }
 },
 "nbformat": 4,
 "nbformat_minor": 4
}
