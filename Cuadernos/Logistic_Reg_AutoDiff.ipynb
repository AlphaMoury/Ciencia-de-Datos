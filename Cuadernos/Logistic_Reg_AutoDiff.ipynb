{
 "cells": [
  {
   "cell_type": "markdown",
   "metadata": {},
   "source": [
    "<h1 align='center'> Modelo Lineal de Clasificación  con JAX </h1>\n",
    "\n",
    "<h3>Autor</h3>\n",
    "\n",
    "1. Alvaro Mauricio Montenegro Díaz, ammontenegrod@unal.edu.co\n",
    "2. Daniel Mauricio Montenegro Reyes, dextronomo@gmail.com \n",
    "\n",
    "<h3>Fork</h3>\n",
    "\n",
    "<h3>Referencias</h3>"
   ]
  },
  {
   "cell_type": "markdown",
   "metadata": {},
   "source": [
    "<h2> 1. Introducción </h2>\n",
    "\n",
    "Con su versión actualizada de [Autograd](https://github.com/hips/autograd), [JAX](https://jax.readthedocs.io/en/latest/notebooks/autodiff_cookbook.html) puede diferenciar automáticamente el código nativo de Python y NumPy. Puede derivarse través de un gran subconjunto de características de Python, incluidos bucles, ifs, recursión y clousures, e incluso puede tomar derivadas de derivadas de derivadas. Admite la diferenciación tanto en modo inverso como en modo directo, y los dos pueden componerse arbitrariamente en cualquier orden.\n",
    "\n",
    "Lo nuevo es que JAX usa [XLA](https://www.tensorflow.org/xla) para compilar y ejecutar su código NumPy en aceleradores, como GPU y TPU. La compilación ocurre de forma predeterminada, con las llamadas de la biblioteca compiladas y ejecutadas justo a tiempo. Pero JAX incluso le permite compilar justo a tiempo sus propias funciones de Python en núcleos optimizados para XLA utilizando una API de una función. La compilación y la diferenciación automática se pueden componer de forma arbitraria, por lo que puede expresar algoritmos sofisticados y obtener el máximo rendimiento sin tener que abandonar Python."
   ]
  },
  {
   "cell_type": "code",
   "execution_count": null,
   "metadata": {},
   "outputs": [],
   "source": [
    "# !pip install --upgrade jax jaxlib \n",
    "\n",
    "from __future__ import print_function\n",
    "import jax.numpy as np\n",
    "from jax import grad, jit, vmap\n",
    "from jax import random\n",
    "key = random.PRNGKey(0)\n",
    "# Current convention is to import original numpy as \"onp\"\n",
    "import numpy as onp\n",
    "import itertools\n",
    "\n",
    "\n",
    "#import random\n",
    "#import jax\n"
   ]
  },
  {
   "cell_type": "markdown",
   "metadata": {},
   "source": [
    "<h2>2. Función de Predicción</h2>\n",
    "\n"
   ]
  },
  {
   "cell_type": "code",
   "execution_count": 84,
   "metadata": {},
   "outputs": [],
   "source": [
    "def sigmoid(x):\n",
    "    return 0.5*(np.tanh(x/2)+1)\n",
    "# more stable than  1.0/(1+np.exp(-x))\n",
    "\n",
    "# outputs probability of a label being true\n",
    "def predict(W,b,inputs):\n",
    "    return sigmoid(np.dot(inputs,W)+b)"
   ]
  },
  {
   "cell_type": "markdown",
   "metadata": {},
   "source": [
    "<h2>3. Función de Pérdida. Entropía cruzada</h2>"
   ]
  },
  {
   "cell_type": "code",
   "execution_count": 84,
   "metadata": {},
   "outputs": [],
   "source": [
    "\n",
    "# training loss: -log likelihood of trainig examples\n",
    "def loss(W,b,x,y):\n",
    "    preds = predict(W,b,x)\n",
    "    label_probs = preds*y + (1-preds)*(1-y)\n",
    "    return -np.sum(np.log(label_probs))\n",
    "\n",
    "# initialize coefficients\n",
    "key, W_key, b_key = random.split(key,3)\n",
    "W = random.normal(key, (3,))\n",
    "b = random.normal(key,())"
   ]
  },
  {
   "cell_type": "markdown",
   "metadata": {},
   "source": [
    "<h2>4. Ejemplo. Datos de Juguete</h2>"
   ]
  },
  {
   "cell_type": "code",
   "execution_count": null,
   "metadata": {},
   "outputs": [],
   "source": [
    "# Build a toy dataset\n",
    "inputs = np.array([[0.52, 1.12,  0.77],\n",
    "                   [0.88, -1.08, 0.15],\n",
    "                   [0.52, 0.06, -1.30],\n",
    "                   [0.74, -2.49, 1.39]])\n",
    "targets = np.array([True, True, False, True])"
   ]
  },
  {
   "cell_type": "markdown",
   "metadata": {},
   "source": [
    "<h2>5. Gradiente</h2>"
   ]
  },
  {
   "cell_type": "markdown",
   "metadata": {},
   "source": [
    "Usaremos la funcion *grad* con sus argumentos  para diferenciar la función con respecto a sus parámetros ṕosicionales"
   ]
  },
  {
   "cell_type": "code",
   "execution_count": 52,
   "metadata": {},
   "outputs": [],
   "source": [
    "# compile with jit\n",
    "# argsnums define positional params to derive with respect to\n",
    "grad_loss = jit(grad(loss,argnums=(0,1)))"
   ]
  },
  {
   "cell_type": "code",
   "execution_count": 53,
   "metadata": {},
   "outputs": [
    {
     "name": "stdout",
     "output_type": "stream",
     "text": [
      "W_grad =  [-0.13325673  0.7287398  -1.7607927 ]\n",
      "b_grad =  0.022453208\n"
     ]
    }
   ],
   "source": [
    "W_grad, b_grad = grad_loss(W,b,inputs, targets)\n",
    "print(\"W_grad = \", W_grad)\n",
    "print(\"b_grad = \", b_grad)"
   ]
  },
  {
   "cell_type": "markdown",
   "metadata": {},
   "source": [
    "<h2>6. Entrenamiento del modelo</h2>"
   ]
  },
  {
   "cell_type": "code",
   "execution_count": 54,
   "metadata": {},
   "outputs": [],
   "source": [
    "# train function\n",
    "def train(W,b,x,y, lr= 0.12):\n",
    "    gradient = grad_loss(W,b,inputs,targets) \n",
    "    W_grad, b_grad = grad_loss(W,b,inputs,targets)\n",
    "    W -= W_grad*lr\n",
    "    b -= b_grad*lr\n",
    "    return(W,b)"
   ]
  },
  {
   "cell_type": "code",
   "execution_count": 55,
   "metadata": {
    "collapsed": true,
    "jupyter": {
     "outputs_hidden": true
    }
   },
   "outputs": [
    {
     "name": "stdout",
     "output_type": "stream",
     "text": [
      "Epoch 0: train loss 2.3193581104278564\n",
      "Epoch 1: train loss 2.01922345161438\n",
      "Epoch 2: train loss 1.7796587944030762\n",
      "Epoch 3: train loss 1.5825984477996826\n",
      "Epoch 4: train loss 1.4183536767959595\n",
      "Epoch 5: train loss 1.2804994583129883\n",
      "Epoch 6: train loss 1.1641706228256226\n",
      "Epoch 7: train loss 1.0654593706130981\n",
      "Epoch 8: train loss 0.9811764359474182\n",
      "Epoch 9: train loss 0.9087210297584534\n",
      "Epoch 10: train loss 0.8459861278533936\n",
      "Epoch 11: train loss 0.7912724614143372\n",
      "Epoch 12: train loss 0.7432132959365845\n",
      "Epoch 13: train loss 0.7007092833518982\n",
      "Epoch 14: train loss 0.6628734469413757\n",
      "Epoch 15: train loss 0.628989040851593\n",
      "Epoch 16: train loss 0.5984709858894348\n",
      "Epoch 17: train loss 0.5708418488502502\n",
      "Epoch 18: train loss 0.5457080006599426\n",
      "Epoch 19: train loss 0.522742509841919\n"
     ]
    }
   ],
   "source": [
    "#    \n",
    "weights, biases = [], []\n",
    "train_loss= []\n",
    "epochs = 20\n",
    "\n",
    "train_loss.append(loss(W,b,inputs,targets))\n",
    "\n",
    "for epoch in range(epochs):\n",
    "    W,b = train(W,b,inputs, targets)\n",
    "    weights.append(W)\n",
    "    biases.append(b)\n",
    "    losss = loss(W,b,inputs,targets)\n",
    "    train_loss.append(losss)\n",
    "    print(f\"Epoch {epoch}: train loss {losss}\")"
   ]
  },
  {
   "cell_type": "code",
   "execution_count": 60,
   "metadata": {},
   "outputs": [
    {
     "name": "stdout",
     "output_type": "stream",
     "text": [
      "weights\n",
      "[ 0.5526737  -0.0814647  -0.11806437]\n",
      "[ 0.55927765 -0.13807121  0.06845167]\n",
      "[ 0.5614956  -0.17740442  0.2367465 ]\n",
      "[ 0.561902   -0.2063056   0.39015874]\n",
      "[ 0.5618833  -0.22850716  0.53068244]\n",
      "[ 0.5621856  -0.24620296  0.6597552 ]\n",
      "[ 0.56318307 -0.2607605   0.77857214]\n",
      "[ 0.56502855 -0.27307138  0.888201  ]\n",
      "[ 0.5677453 -0.2837374  0.9896157]\n",
      "[ 0.57128537 -0.29317585  1.0837021 ]\n",
      "[ 0.5755653  -0.30168238  1.1712576 ]\n",
      "[ 0.58048826 -0.30947018  1.252992  ]\n",
      "[ 0.5859567 -0.3166952  1.3295317]\n",
      "[ 0.59187865 -0.32347307  1.4014258 ]\n",
      "[ 0.59817106 -0.32989037  1.4691548 ]\n",
      "[ 0.60476077 -0.33601263  1.5331378 ]\n",
      "[ 0.61158454 -0.34188995  1.5937407 ]\n",
      "[ 0.6185881  -0.34756085  1.6512834 ]\n",
      "[ 0.6257253 -0.3530553  1.706046 ]\n",
      "[ 0.63295746 -0.3583968   1.7582744 ]\n",
      "biases\n",
      "0.8808514\n",
      "0.8669749\n",
      "0.8486012\n",
      "0.8292053\n",
      "0.81065005\n",
      "0.7939027\n",
      "0.7793964\n",
      "0.7672425\n",
      "0.7573656\n",
      "0.74959135\n",
      "0.7437017\n",
      "0.7394684\n",
      "0.73667145\n",
      "0.73510873\n",
      "0.7345997\n",
      "0.73498607\n",
      "0.7361306\n",
      "0.7379152\n",
      "0.74023885\n",
      "0.7430152\n"
     ]
    }
   ],
   "source": [
    "print('weights')\n",
    "for weight in weights:\n",
    "    print(weight)\n",
    "print('biases')\n",
    "for bias in biases:\n",
    "    print(bias)"
   ]
  },
  {
   "cell_type": "code",
   "execution_count": 71,
   "metadata": {},
   "outputs": [
    {
     "name": "stdout",
     "output_type": "stream",
     "text": [
      "[-0.06078603  0.04339207 -0.41592562]\n"
     ]
    }
   ],
   "source": [
    "print(grad(loss)(W,b,inputs,targets))"
   ]
  },
  {
   "cell_type": "markdown",
   "metadata": {},
   "source": [
    "### Calculando el valor de la función y el gradiente con value_and_grad"
   ]
  },
  {
   "cell_type": "code",
   "execution_count": 82,
   "metadata": {},
   "outputs": [
    {
     "name": "stdout",
     "output_type": "stream",
     "text": [
      "loss value:  0.5227425\n",
      "gradient value:  (DeviceArray([-0.06078603,  0.04339207, -0.41592562], dtype=float32), DeviceArray(-0.02629587, dtype=float32))\n"
     ]
    }
   ],
   "source": [
    "from jax import value_and_grad\n",
    "loss_val, Wb_grad = value_and_grad(loss,(0,1))(W,b,inputs, targets)\n",
    "print('loss value: ', loss_val)\n",
    "print('gradient value: ', Wb_grad)"
   ]
  },
  {
   "cell_type": "code",
   "execution_count": null,
   "metadata": {},
   "outputs": [],
   "source": []
  }
 ],
 "metadata": {
  "kernelspec": {
   "display_name": "Python 3",
   "language": "python",
   "name": "python3"
  },
  "language_info": {
   "codemirror_mode": {
    "name": "ipython",
    "version": 3
   },
   "file_extension": ".py",
   "mimetype": "text/x-python",
   "name": "python",
   "nbconvert_exporter": "python",
   "pygments_lexer": "ipython3",
   "version": "3.7.5"
  }
 },
 "nbformat": 4,
 "nbformat_minor": 4
}
