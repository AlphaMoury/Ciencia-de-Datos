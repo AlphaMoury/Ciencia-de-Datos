{
 "cells": [
  {
   "cell_type": "markdown",
   "metadata": {},
   "source": [
    "<h1 align='center'> Modelo Lineal de Regresión Simple </h1>\n",
    "\n",
    "<h3>Autor</h3>\n",
    "\n",
    "1. Alvaro Mauricio Montenegro Díaz, ammontenegrod@unal.edu.co\n",
    "2. Daniel Mauricio Montenegro Reyes, dextronomo@gmail.com \n",
    "\n",
    "<h3>Fork</h3>\n",
    "\n",
    "<h3>Referencias</h3>\n"
   ]
  },
  {
   "cell_type": "markdown",
   "metadata": {},
   "source": [
    "<h2>1. Introducción </h2>\n",
    "\n",
    "En este cuaderno se introduce la diferenciación automática usando Tensorflow 2.1 . Como ilustración implementaremos un modelo lineal simple  de regresión."
   ]
  },
  {
   "cell_type": "markdown",
   "metadata": {},
   "source": [
    "<h2>2. Importar módulos requeridos </h2>\n"
   ]
  },
  {
   "cell_type": "code",
   "execution_count": 6,
   "metadata": {},
   "outputs": [
    {
     "name": "stdout",
     "output_type": "stream",
     "text": [
      "2.1.0\n"
     ]
    }
   ],
   "source": [
    "from __future__ import absolute_import, division, print_function, unicode_literals\n",
    "\n",
    "import numpy as np\n",
    "import pandas as pd\n",
    "import seaborn as sb\n",
    "import matplotlib.pyplot as plt\n",
    "import tensorflow as tf\n",
    "import random\n",
    "\n",
    "print(tf.__version__)"
   ]
  },
  {
   "cell_type": "markdown",
   "metadata": {},
   "source": [
    "<h2> 3. Creación de datos sintéticos  </h2>\n",
    "\n",
    "Para el ejemplo vamos a asumir que los datos pueden ser modelados mediante una línea recta de la forma\n",
    "\n",
    "$$\n",
    "\\begin{equation}\n",
    "y = wx + b \n",
    "\\end{equation}\n",
    "$$\n",
    "\n",
    "en donde $w= 2$ y $b=1$. Vamos a suponer que la variable dependiente $y$ esta afectada por un error de observación aleatorio $e \\sim N(0,0.3^2)$. \n",
    "\n",
    "Los datos sintéticos son generados como sigue. Generamos $n=120$ valores $x_i$ equidistantes en el intervalo $(0,3)$. Los valores de la variable dependiente $y_i$ son generados usando la ecuación de la recta más el error: $y_i = w x_i +b + e_i$."
   ]
  },
  {
   "cell_type": "code",
   "execution_count": 7,
   "metadata": {},
   "outputs": [],
   "source": [
    "w = 1.2\n",
    "b = 2\n",
    "n = 1200\n",
    "scale= 1.0\n",
    "\n",
    "x = np.linspace(0,6,n)\n",
    "y = w*x + b + np.random.normal(scale=scale, size= x.shape[0])\n",
    "# pandas object to descriptive analysis\n",
    "data = pd.DataFrame({'x': x, 'y': y})"
   ]
  },
  {
   "cell_type": "code",
   "execution_count": 8,
   "metadata": {},
   "outputs": [
    {
     "data": {
      "text/html": [
       "<div>\n",
       "<style scoped>\n",
       "    .dataframe tbody tr th:only-of-type {\n",
       "        vertical-align: middle;\n",
       "    }\n",
       "\n",
       "    .dataframe tbody tr th {\n",
       "        vertical-align: top;\n",
       "    }\n",
       "\n",
       "    .dataframe thead th {\n",
       "        text-align: right;\n",
       "    }\n",
       "</style>\n",
       "<table border=\"1\" class=\"dataframe\">\n",
       "  <thead>\n",
       "    <tr style=\"text-align: right;\">\n",
       "      <th></th>\n",
       "      <th>x</th>\n",
       "      <th>y</th>\n",
       "    </tr>\n",
       "  </thead>\n",
       "  <tbody>\n",
       "    <tr>\n",
       "      <th>0</th>\n",
       "      <td>0.000000</td>\n",
       "      <td>2.307600</td>\n",
       "    </tr>\n",
       "    <tr>\n",
       "      <th>1</th>\n",
       "      <td>0.005004</td>\n",
       "      <td>2.072407</td>\n",
       "    </tr>\n",
       "    <tr>\n",
       "      <th>2</th>\n",
       "      <td>0.010008</td>\n",
       "      <td>0.994219</td>\n",
       "    </tr>\n",
       "    <tr>\n",
       "      <th>3</th>\n",
       "      <td>0.015013</td>\n",
       "      <td>1.777229</td>\n",
       "    </tr>\n",
       "    <tr>\n",
       "      <th>4</th>\n",
       "      <td>0.020017</td>\n",
       "      <td>1.410617</td>\n",
       "    </tr>\n",
       "  </tbody>\n",
       "</table>\n",
       "</div>"
      ],
      "text/plain": [
       "          x         y\n",
       "0  0.000000  2.307600\n",
       "1  0.005004  2.072407\n",
       "2  0.010008  0.994219\n",
       "3  0.015013  1.777229\n",
       "4  0.020017  1.410617"
      ]
     },
     "execution_count": 8,
     "metadata": {},
     "output_type": "execute_result"
    }
   ],
   "source": [
    "data.head()"
   ]
  },
  {
   "cell_type": "markdown",
   "metadata": {},
   "source": [
    "<h2>4.  Primer acercamiento gráfico a los datos   </h2>\n",
    "\n",
    "Revisaremos las relaciones entre variables, usando pairplot y un gráfico de correlación"
   ]
  },
  {
   "cell_type": "code",
   "execution_count": null,
   "metadata": {},
   "outputs": [],
   "source": [
    "#sb.scatterplot(data_f, label =\" Datos sintéticos\")\n",
    "#sb.pairplot(data_f, diag_kind =\"kde\")\n",
    "#plt.show()\n",
    "\n",
    "# Create an lmplot\n",
    "grid = sb.lmplot('x', 'y', data, height=7, truncate=True,  markers='.', scatter_kws={\"s\": 100})\n",
    "\n",
    "# Rotate the labels on x-axis\n",
    "grid.set_xticklabels(rotation=30)\n",
    "# Access the Figure\n",
    "fig = grid.fig \n",
    "\n",
    "# Add a title to the Figure\n",
    "fig.suptitle('Regresión lineal \\n $y = 1.2x + 1 + \\epsilon$', fontsize=20)\n",
    "# Show the plot\n",
    "plt.show()"
   ]
  },
  {
   "cell_type": "code",
   "execution_count": 10,
   "metadata": {},
   "outputs": [
    {
     "data": {
      "text/html": [
       "<style  type=\"text/css\" >\n",
       "    #T_13f60ad6_6a50_11ea_a346_0fc7f1f997cerow0_col0 {\n",
       "            background-color:  #b40426;\n",
       "            color:  #f1f1f1;\n",
       "        }    #T_13f60ad6_6a50_11ea_a346_0fc7f1f997cerow0_col1 {\n",
       "            background-color:  #3b4cc0;\n",
       "            color:  #f1f1f1;\n",
       "        }    #T_13f60ad6_6a50_11ea_a346_0fc7f1f997cerow1_col0 {\n",
       "            background-color:  #3b4cc0;\n",
       "            color:  #f1f1f1;\n",
       "        }    #T_13f60ad6_6a50_11ea_a346_0fc7f1f997cerow1_col1 {\n",
       "            background-color:  #b40426;\n",
       "            color:  #f1f1f1;\n",
       "        }</style><table id=\"T_13f60ad6_6a50_11ea_a346_0fc7f1f997ce\" ><thead>    <tr>        <th class=\"blank level0\" ></th>        <th class=\"col_heading level0 col0\" >x</th>        <th class=\"col_heading level0 col1\" >y</th>    </tr></thead><tbody>\n",
       "                <tr>\n",
       "                        <th id=\"T_13f60ad6_6a50_11ea_a346_0fc7f1f997celevel0_row0\" class=\"row_heading level0 row0\" >x</th>\n",
       "                        <td id=\"T_13f60ad6_6a50_11ea_a346_0fc7f1f997cerow0_col0\" class=\"data row0 col0\" >1</td>\n",
       "                        <td id=\"T_13f60ad6_6a50_11ea_a346_0fc7f1f997cerow0_col1\" class=\"data row0 col1\" >0.897203</td>\n",
       "            </tr>\n",
       "            <tr>\n",
       "                        <th id=\"T_13f60ad6_6a50_11ea_a346_0fc7f1f997celevel0_row1\" class=\"row_heading level0 row1\" >y</th>\n",
       "                        <td id=\"T_13f60ad6_6a50_11ea_a346_0fc7f1f997cerow1_col0\" class=\"data row1 col0\" >0.897203</td>\n",
       "                        <td id=\"T_13f60ad6_6a50_11ea_a346_0fc7f1f997cerow1_col1\" class=\"data row1 col1\" >1</td>\n",
       "            </tr>\n",
       "    </tbody></table>"
      ],
      "text/plain": [
       "<pandas.io.formats.style.Styler at 0x7ff2648c3c10>"
      ]
     },
     "execution_count": 10,
     "metadata": {},
     "output_type": "execute_result"
    }
   ],
   "source": [
    "correlation_data = data.corr()\n",
    "correlation_data.style.background_gradient(cmap='coolwarm', axis =None)"
   ]
  },
  {
   "cell_type": "markdown",
   "metadata": {},
   "source": [
    "<h2><span class=\"header-section-number\"> 5 </span> Estadísticas Descriptivas  </h2>\n",
    "\n",
    "Tendencia central y dispersión"
   ]
  },
  {
   "cell_type": "code",
   "execution_count": 11,
   "metadata": {},
   "outputs": [
    {
     "data": {
      "text/html": [
       "<div>\n",
       "<style scoped>\n",
       "    .dataframe tbody tr th:only-of-type {\n",
       "        vertical-align: middle;\n",
       "    }\n",
       "\n",
       "    .dataframe tbody tr th {\n",
       "        vertical-align: top;\n",
       "    }\n",
       "\n",
       "    .dataframe thead th {\n",
       "        text-align: right;\n",
       "    }\n",
       "</style>\n",
       "<table border=\"1\" class=\"dataframe\">\n",
       "  <thead>\n",
       "    <tr style=\"text-align: right;\">\n",
       "      <th></th>\n",
       "      <th>count</th>\n",
       "      <th>mean</th>\n",
       "      <th>std</th>\n",
       "      <th>min</th>\n",
       "      <th>25%</th>\n",
       "      <th>50%</th>\n",
       "      <th>75%</th>\n",
       "      <th>max</th>\n",
       "    </tr>\n",
       "  </thead>\n",
       "  <tbody>\n",
       "    <tr>\n",
       "      <th>x</th>\n",
       "      <td>1200.0</td>\n",
       "      <td>3.000000</td>\n",
       "      <td>1.734218</td>\n",
       "      <td>0.000000</td>\n",
       "      <td>1.500000</td>\n",
       "      <td>3.000000</td>\n",
       "      <td>4.50000</td>\n",
       "      <td>6.000000</td>\n",
       "    </tr>\n",
       "    <tr>\n",
       "      <th>y</th>\n",
       "      <td>1200.0</td>\n",
       "      <td>5.591003</td>\n",
       "      <td>2.291917</td>\n",
       "      <td>0.317478</td>\n",
       "      <td>3.739724</td>\n",
       "      <td>5.584183</td>\n",
       "      <td>7.41657</td>\n",
       "      <td>10.917964</td>\n",
       "    </tr>\n",
       "  </tbody>\n",
       "</table>\n",
       "</div>"
      ],
      "text/plain": [
       "    count      mean       std       min       25%       50%      75%  \\\n",
       "x  1200.0  3.000000  1.734218  0.000000  1.500000  3.000000  4.50000   \n",
       "y  1200.0  5.591003  2.291917  0.317478  3.739724  5.584183  7.41657   \n",
       "\n",
       "         max  \n",
       "x   6.000000  \n",
       "y  10.917964  "
      ]
     },
     "execution_count": 11,
     "metadata": {},
     "output_type": "execute_result"
    }
   ],
   "source": [
    "stats = data.describe()\n",
    "stats = stats.transpose()\n",
    "stats"
   ]
  },
  {
   "cell_type": "markdown",
   "metadata": {},
   "source": [
    "<h2>5. Prepara datos para entrenamiento y validación </h2>\n"
   ]
  },
  {
   "cell_type": "code",
   "execution_count": 12,
   "metadata": {},
   "outputs": [],
   "source": [
    "# index to sample\n",
    "size_test = 0.2 # 20% for testing\n",
    "n_test = np.int(n*size_test )\n",
    "n_train = np.int(n-n_test)\n",
    "\n",
    "# index for sample for testing and training\n",
    "test_id  = np.random.choice(range(x.shape[0]),n_test,replace =False)\n",
    "train_id = np.setdiff1d(range(x.shape[0]), test_id , assume_unique=True)\n",
    "\n",
    "# extract the samples\n",
    "x_test  = x[test_id]\n",
    "x_train = x[train_id]\n",
    "y_test  = y[test_id]\n",
    "y_train = y[train_id]"
   ]
  },
  {
   "cell_type": "markdown",
   "metadata": {},
   "source": [
    "<h2> 6. Crea una clase Linear Model</h2>\n",
    "\n",
    "La clase tiene dos métodos: **init** y **call**. *init* inicializa *w* (weight) y *b* (bias) aleatoriamente y *call* retorna los valores usando la ecuación $y = wx + b$."
   ]
  },
  {
   "cell_type": "code",
   "execution_count": 13,
   "metadata": {},
   "outputs": [],
   "source": [
    "#LinearModel class\n",
    "import numpy as np\n",
    "\n",
    "class LinearModel:\n",
    "    def __call__(self,x):\n",
    "        return self.weight * x + self.bias\n",
    "    \n",
    "    def __init__(self):\n",
    "        self.weight = tf.Variable(np.random.rand()) #  generate a value in [0,1)\n",
    "        self.bias   = tf.Variable(np.random.rand()) #  generate a value in [0,1)\n"
   ]
  },
  {
   "cell_type": "markdown",
   "metadata": {},
   "source": [
    "<h2> 7.  Define las funciones pérdida (loss) y entrenamiento (train)</h2>\n",
    "\n",
    "La función pérdida será el error cuadrático medio definido por\n",
    "\n",
    "$$\n",
    "\\begin{equation}\n",
    "loss = \\frac{1}{n} \\sum_{i=1}^{n} (y_i-\\tilde{y}_i)^2,\n",
    "\\end{equation}\n",
    "$$\n",
    "\n",
    "en donde $\\tilde{y}_i$ es el valor predicho (pred) por el modelo para $x_i$.\n",
    "\n",
    "En la función de entrenamiento vamos a introducir  diferenciación automática con un contexto de *tf.GradientTape*. El método de optimización es gradiente descendiente,que usa una tasa de aprendizaje *lr*."
   ]
  },
  {
   "cell_type": "code",
   "execution_count": 14,
   "metadata": {},
   "outputs": [],
   "source": [
    "# loss function\n",
    "def loss(y, pred):\n",
    "    return tf.reduce_mean(tf.math.square(y-pred))\n",
    "\n",
    "# train function\n",
    "def train(linear_model, x,y, lr= 0.12):\n",
    "    with tf.GradientTape() as t:\n",
    "        t.watch([linear_model.weight, linear_model.bias])\n",
    "        current_loss = loss(y, linear_model(x))\n",
    "        \n",
    "    lr_weight, lr_bias = t.gradient(current_loss, [linear_model.weight, linear_model.bias])\n",
    "    linear_model.weight.assign_sub(lr*lr_weight) # linear_model.weight is a tensor\n",
    "    linear_model.bias.assign_sub(lr*lr_bias) # linear_model.bias is a tensor\n",
    "    "
   ]
  },
  {
   "cell_type": "markdown",
   "metadata": {},
   "source": [
    "<h2> 8.  Entrenamiento del modelo </h2>\n",
    "\n",
    "Estamos listos para correr el modelo de regresión lineal. Diremos: *entrenar el modelo*. Definimos un número de epochs (iteraciones). Por defecto usaremos el valor 0.06 como rata de aprendizaje. Usaremos 200 epochs en este experimento."
   ]
  },
  {
   "cell_type": "code",
   "execution_count": null,
   "metadata": {},
   "outputs": [],
   "source": [
    "linear_model = LinearModel()\n",
    "weights, biases = [], []\n",
    "train_loss_p, test_loss_p = [], []\n",
    "epochs = 200\n",
    "\n",
    "for epoch in range(epochs):\n",
    "    weights.append(linear_model.weight.numpy())\n",
    "    biases.append(linear_model.bias.numpy())\n",
    "    train(linear_model, x_train, y_train, lr =0.06)\n",
    "    train_loss = loss(y_train,linear_model(x_train))\n",
    "    test_loss  = loss(y_test,linear_model(x_test))\n",
    "    # save loss values to plot\n",
    "    train_loss_p.append(train_loss)\n",
    "    test_loss_p.append(test_loss)\n",
    "    print(f\"Epoch {epoch}: train loss {train_loss.numpy()}: test loss {test_loss.numpy()}\")"
   ]
  },
  {
   "cell_type": "markdown",
   "metadata": {},
   "source": [
    "<h2> 9.  Validación. Gráficos de la función de pérdida </h2>"
   ]
  },
  {
   "cell_type": "code",
   "execution_count": null,
   "metadata": {},
   "outputs": [],
   "source": [
    "# plots\n",
    "def loss_plots(train, test, y_min =0,y_max=2):\n",
    "    plt.plot(train,color='red', label='train loss')\n",
    "    plt.plot(test, color='blue', label='test loss')\n",
    "    plt.ylim(y_min,y_max)\n",
    "    plt.xlabel('Epoch')\n",
    "    plt.ylabel('Loss')\n",
    "    plt.legend()\n",
    "    plt.show()\n",
    "\n",
    "#\n",
    "loss_plots(train_loss_p, test_loss_p,y_min=0.5,y_max = 3.0)"
   ]
  },
  {
   "cell_type": "markdown",
   "metadata": {},
   "source": [
    "<h2> 10.  Extracción de parámetros </h2>"
   ]
  },
  {
   "cell_type": "code",
   "execution_count": 17,
   "metadata": {},
   "outputs": [
    {
     "name": "stdout",
     "output_type": "stream",
     "text": [
      "weight = 1.193455\n",
      "bias = 2.0037918\n"
     ]
    }
   ],
   "source": [
    "print(\"weight =\", linear_model.weight.numpy())\n",
    "print(\"bias =\",linear_model.bias.numpy())"
   ]
  },
  {
   "cell_type": "code",
   "execution_count": null,
   "metadata": {},
   "outputs": [],
   "source": []
  }
 ],
 "metadata": {
  "kernelspec": {
   "display_name": "Python 3",
   "language": "python",
   "name": "python3"
  },
  "language_info": {
   "codemirror_mode": {
    "name": "ipython",
    "version": 3
   },
   "file_extension": ".py",
   "mimetype": "text/x-python",
   "name": "python",
   "nbconvert_exporter": "python",
   "pygments_lexer": "ipython3",
   "version": "3.7.6"
  }
 },
 "nbformat": 4,
 "nbformat_minor": 4
}
