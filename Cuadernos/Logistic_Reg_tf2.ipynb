{
 "cells": [
  {
   "cell_type": "markdown",
   "metadata": {},
   "source": [
    "<h1 align='center'> Modelo Lineal de Clasificación  con Tensorflow 2.0 </h1>\n",
    "\n",
    "<h3>Autor</h3>\n",
    "\n",
    "1. Alvaro Mauricio Montenegro Díaz, ammontenegrod@unal.edu.co\n",
    "2. Daniel Mauricio Montenegro Reyes, dextronomo@gmail.com \n",
    "\n",
    "<h3>Fork</h3>\n",
    "\n",
    "<h3>Referencias</h3>\n",
    "\n",
    "1. <table class=\"tfo-notebook-buttons\" align=\"left\">\n",
    "  <td>\n",
    "    <a target=\"_blank\" href=\"https://colab.research.google.com/drive/1qNxKmi0QpkunqTDdpXfVLlneG-NFDN9c\"><img src=\"https://www.tensorflow.org/images/colab_logo_32px.png\" />Ver este código en  in Google Colab</a>\n",
    "  </td>\n",
    "  "
   ]
  },
  {
   "cell_type": "markdown",
   "metadata": {},
   "source": [
    "<h2> 1. Introducción </h2>\n",
    "\n",
    "Este código fue tomado y  adaptado de [Google Colab](\"https://colab.research.google.com/drive/1qNxKmi0QpkunqTDdpXfVLlneG-NFDN9c\"). En este ejercicio usaremos el famoso conjunto de datos *iris*. Sin embargo se usaran todos los datos, porqur en este ejercicio vamos a introducir el modelo logístico clasico que permite separar en dos clases. Los datos de la primera clase son omitidos y los datos se recodifican para tener solamente dos clases. Próximamente usaremos todos los datos.\n"
   ]
  },
  {
   "cell_type": "markdown",
   "metadata": {},
   "source": [
    "<h2> 2. Importar los módulos requeridos </h2>"
   ]
  },
  {
   "cell_type": "code",
   "execution_count": 113,
   "metadata": {},
   "outputs": [],
   "source": [
    "try:\n",
    "  %tensorflow_version 2.x\n",
    "except Exception:\n",
    "  pass"
   ]
  },
  {
   "cell_type": "code",
   "execution_count": 114,
   "metadata": {},
   "outputs": [
    {
     "name": "stdout",
     "output_type": "stream",
     "text": [
      "2.1.0\n"
     ]
    }
   ],
   "source": [
    "from __future__ import absolute_import, division, print_function, unicode_literals\n",
    "\n",
    "import pandas as pd\n",
    "import seaborn as sb\n",
    "import tensorflow as tf\n",
    "from tensorflow import keras\n",
    "from tensorflow.estimator import LinearClassifier\n",
    "from sklearn.model_selection import train_test_split\n",
    "from sklearn.metrics import accuracy_score, precision_score, recall_score\n",
    "\n",
    "print(tf.__version__)"
   ]
  },
  {
   "cell_type": "code",
   "execution_count": null,
   "metadata": {},
   "outputs": [],
   "source": []
  },
  {
   "cell_type": "markdown",
   "metadata": {},
   "source": [
    "<h2> 3. Load and configure the Iris Dataset </h2>\n"
   ]
  },
  {
   "cell_type": "code",
   "execution_count": 136,
   "metadata": {},
   "outputs": [],
   "source": [
    "# nombres de las columnas de los datos\n",
    "col_names = ['SepalLength', 'SepalWidth', 'PetalLength', 'PetalWidth', 'Species']\n",
    "target_dimensions = ['Setosa', 'Versicolor', 'Virginica']\n",
    "\n",
    "# lee los datos\n",
    "training_data_path = tf.keras.utils.get_file(\"iris_training.csv\", \"https://storage.googleapis.com/download.tensorflow.org/data/iris_training.csv\")\n",
    "test_data_path = tf.keras.utils.get_file(\"iris_test.csv\", \"https://storage.googleapis.com/download.tensorflow.org/data/iris_test.csv\")\n",
    "training = pd.read_csv(training_data_path, names=col_names, header=0)\n",
    "test = pd.read_csv(test_data_path, names=col_names, header=0)\n",
    "\n",
    "# esta sección es para omitir la clase 0: \"Setosa\" y recodificar loa datos  de entrenamiento\n",
    "training = training[training['Species'] >= 1]\n",
    "training['Species'] = training['Species'].replace([1,2], [0,1])\n",
    "\n",
    "# esta sección es para omitir la clase 0: \"Setosa\" y recodificar loa datos  de validación\n",
    "test = test[test['Species'] >= 1]\n",
    "test['Species'] = test['Species'].replace([1,2], [0,1])\n",
    "\n",
    "#omite los índices de los dos dataframes para poderlos concadenar\n",
    "training.reset_index(drop=True, inplace=True)\n",
    "test.reset_index(drop=True, inplace=True)\n",
    "\n",
    "# concadena los dataframes\n",
    "iris_dataset = pd.concat([training, test], axis=0)"
   ]
  },
  {
   "cell_type": "markdown",
   "metadata": {},
   "source": [
    "<h2> 4. Primer acercamiento descriptivo los datos</h2>"
   ]
  },
  {
   "cell_type": "code",
   "execution_count": 137,
   "metadata": {},
   "outputs": [
    {
     "data": {
      "text/html": [
       "<div>\n",
       "<style scoped>\n",
       "    .dataframe tbody tr th:only-of-type {\n",
       "        vertical-align: middle;\n",
       "    }\n",
       "\n",
       "    .dataframe tbody tr th {\n",
       "        vertical-align: top;\n",
       "    }\n",
       "\n",
       "    .dataframe thead th {\n",
       "        text-align: right;\n",
       "    }\n",
       "</style>\n",
       "<table border=\"1\" class=\"dataframe\">\n",
       "  <thead>\n",
       "    <tr style=\"text-align: right;\">\n",
       "      <th></th>\n",
       "      <th>count</th>\n",
       "      <th>mean</th>\n",
       "      <th>std</th>\n",
       "      <th>min</th>\n",
       "      <th>25%</th>\n",
       "      <th>50%</th>\n",
       "      <th>75%</th>\n",
       "      <th>max</th>\n",
       "    </tr>\n",
       "  </thead>\n",
       "  <tbody>\n",
       "    <tr>\n",
       "      <th>SepalLength</th>\n",
       "      <td>100.0</td>\n",
       "      <td>6.262</td>\n",
       "      <td>0.662834</td>\n",
       "      <td>4.9</td>\n",
       "      <td>5.800</td>\n",
       "      <td>6.3</td>\n",
       "      <td>6.700</td>\n",
       "      <td>7.9</td>\n",
       "    </tr>\n",
       "    <tr>\n",
       "      <th>SepalWidth</th>\n",
       "      <td>100.0</td>\n",
       "      <td>2.872</td>\n",
       "      <td>0.332751</td>\n",
       "      <td>2.0</td>\n",
       "      <td>2.700</td>\n",
       "      <td>2.9</td>\n",
       "      <td>3.025</td>\n",
       "      <td>3.8</td>\n",
       "    </tr>\n",
       "    <tr>\n",
       "      <th>PetalLength</th>\n",
       "      <td>100.0</td>\n",
       "      <td>4.906</td>\n",
       "      <td>0.825578</td>\n",
       "      <td>3.0</td>\n",
       "      <td>4.375</td>\n",
       "      <td>4.9</td>\n",
       "      <td>5.525</td>\n",
       "      <td>6.9</td>\n",
       "    </tr>\n",
       "    <tr>\n",
       "      <th>PetalWidth</th>\n",
       "      <td>100.0</td>\n",
       "      <td>1.676</td>\n",
       "      <td>0.424769</td>\n",
       "      <td>1.0</td>\n",
       "      <td>1.300</td>\n",
       "      <td>1.6</td>\n",
       "      <td>2.000</td>\n",
       "      <td>2.5</td>\n",
       "    </tr>\n",
       "    <tr>\n",
       "      <th>Species</th>\n",
       "      <td>100.0</td>\n",
       "      <td>0.500</td>\n",
       "      <td>0.502519</td>\n",
       "      <td>0.0</td>\n",
       "      <td>0.000</td>\n",
       "      <td>0.5</td>\n",
       "      <td>1.000</td>\n",
       "      <td>1.0</td>\n",
       "    </tr>\n",
       "  </tbody>\n",
       "</table>\n",
       "</div>"
      ],
      "text/plain": [
       "             count   mean       std  min    25%  50%    75%  max\n",
       "SepalLength  100.0  6.262  0.662834  4.9  5.800  6.3  6.700  7.9\n",
       "SepalWidth   100.0  2.872  0.332751  2.0  2.700  2.9  3.025  3.8\n",
       "PetalLength  100.0  4.906  0.825578  3.0  4.375  4.9  5.525  6.9\n",
       "PetalWidth   100.0  1.676  0.424769  1.0  1.300  1.6  2.000  2.5\n",
       "Species      100.0  0.500  0.502519  0.0  0.000  0.5  1.000  1.0"
      ]
     },
     "execution_count": 137,
     "metadata": {},
     "output_type": "execute_result"
    }
   ],
   "source": [
    "iris_dataset.describe().transpose()"
   ]
  },
  {
   "cell_type": "markdown",
   "metadata": {},
   "source": [
    "sb.pairplot(iris_dataset, diag_kind=\"kde\")"
   ]
  },
  {
   "cell_type": "code",
   "execution_count": 138,
   "metadata": {},
   "outputs": [
    {
     "data": {
      "text/html": [
       "<style  type=\"text/css\" >\n",
       "    #T_2e44ca6c_72e8_11ea_8635_0b7569a8188erow0_col0 {\n",
       "            background-color:  #b40426;\n",
       "            color:  #f1f1f1;\n",
       "        }    #T_2e44ca6c_72e8_11ea_8635_0b7569a8188erow0_col1 {\n",
       "            background-color:  #b1cbfc;\n",
       "            color:  #000000;\n",
       "        }    #T_2e44ca6c_72e8_11ea_8635_0b7569a8188erow0_col2 {\n",
       "            background-color:  #f4987a;\n",
       "            color:  #000000;\n",
       "        }    #T_2e44ca6c_72e8_11ea_8635_0b7569a8188erow0_col3 {\n",
       "            background-color:  #c4d5f3;\n",
       "            color:  #000000;\n",
       "        }    #T_2e44ca6c_72e8_11ea_8635_0b7569a8188erow0_col4 {\n",
       "            background-color:  #93b5fe;\n",
       "            color:  #000000;\n",
       "        }    #T_2e44ca6c_72e8_11ea_8635_0b7569a8188erow1_col0 {\n",
       "            background-color:  #b1cbfc;\n",
       "            color:  #000000;\n",
       "        }    #T_2e44ca6c_72e8_11ea_8635_0b7569a8188erow1_col1 {\n",
       "            background-color:  #b40426;\n",
       "            color:  #f1f1f1;\n",
       "        }    #T_2e44ca6c_72e8_11ea_8635_0b7569a8188erow1_col2 {\n",
       "            background-color:  #a1c0ff;\n",
       "            color:  #000000;\n",
       "        }    #T_2e44ca6c_72e8_11ea_8635_0b7569a8188erow1_col3 {\n",
       "            background-color:  #b7cff9;\n",
       "            color:  #000000;\n",
       "        }    #T_2e44ca6c_72e8_11ea_8635_0b7569a8188erow1_col4 {\n",
       "            background-color:  #3b4cc0;\n",
       "            color:  #f1f1f1;\n",
       "        }    #T_2e44ca6c_72e8_11ea_8635_0b7569a8188erow2_col0 {\n",
       "            background-color:  #f4987a;\n",
       "            color:  #000000;\n",
       "        }    #T_2e44ca6c_72e8_11ea_8635_0b7569a8188erow2_col1 {\n",
       "            background-color:  #a1c0ff;\n",
       "            color:  #000000;\n",
       "        }    #T_2e44ca6c_72e8_11ea_8635_0b7569a8188erow2_col2 {\n",
       "            background-color:  #b40426;\n",
       "            color:  #f1f1f1;\n",
       "        }    #T_2e44ca6c_72e8_11ea_8635_0b7569a8188erow2_col3 {\n",
       "            background-color:  #f59c7d;\n",
       "            color:  #000000;\n",
       "        }    #T_2e44ca6c_72e8_11ea_8635_0b7569a8188erow2_col4 {\n",
       "            background-color:  #f7b093;\n",
       "            color:  #000000;\n",
       "        }    #T_2e44ca6c_72e8_11ea_8635_0b7569a8188erow3_col0 {\n",
       "            background-color:  #c4d5f3;\n",
       "            color:  #000000;\n",
       "        }    #T_2e44ca6c_72e8_11ea_8635_0b7569a8188erow3_col1 {\n",
       "            background-color:  #b7cff9;\n",
       "            color:  #000000;\n",
       "        }    #T_2e44ca6c_72e8_11ea_8635_0b7569a8188erow3_col2 {\n",
       "            background-color:  #f59c7d;\n",
       "            color:  #000000;\n",
       "        }    #T_2e44ca6c_72e8_11ea_8635_0b7569a8188erow3_col3 {\n",
       "            background-color:  #b40426;\n",
       "            color:  #f1f1f1;\n",
       "        }    #T_2e44ca6c_72e8_11ea_8635_0b7569a8188erow3_col4 {\n",
       "            background-color:  #f4987a;\n",
       "            color:  #000000;\n",
       "        }    #T_2e44ca6c_72e8_11ea_8635_0b7569a8188erow4_col0 {\n",
       "            background-color:  #93b5fe;\n",
       "            color:  #000000;\n",
       "        }    #T_2e44ca6c_72e8_11ea_8635_0b7569a8188erow4_col1 {\n",
       "            background-color:  #3b4cc0;\n",
       "            color:  #f1f1f1;\n",
       "        }    #T_2e44ca6c_72e8_11ea_8635_0b7569a8188erow4_col2 {\n",
       "            background-color:  #f7b093;\n",
       "            color:  #000000;\n",
       "        }    #T_2e44ca6c_72e8_11ea_8635_0b7569a8188erow4_col3 {\n",
       "            background-color:  #f4987a;\n",
       "            color:  #000000;\n",
       "        }    #T_2e44ca6c_72e8_11ea_8635_0b7569a8188erow4_col4 {\n",
       "            background-color:  #b40426;\n",
       "            color:  #f1f1f1;\n",
       "        }</style><table id=\"T_2e44ca6c_72e8_11ea_8635_0b7569a8188e\" ><thead>    <tr>        <th class=\"blank level0\" ></th>        <th class=\"col_heading level0 col0\" >SepalLength</th>        <th class=\"col_heading level0 col1\" >SepalWidth</th>        <th class=\"col_heading level0 col2\" >PetalLength</th>        <th class=\"col_heading level0 col3\" >PetalWidth</th>        <th class=\"col_heading level0 col4\" >Species</th>    </tr></thead><tbody>\n",
       "                <tr>\n",
       "                        <th id=\"T_2e44ca6c_72e8_11ea_8635_0b7569a8188elevel0_row0\" class=\"row_heading level0 row0\" >SepalLength</th>\n",
       "                        <td id=\"T_2e44ca6c_72e8_11ea_8635_0b7569a8188erow0_col0\" class=\"data row0 col0\" >1</td>\n",
       "                        <td id=\"T_2e44ca6c_72e8_11ea_8635_0b7569a8188erow0_col1\" class=\"data row0 col1\" >0.553855</td>\n",
       "                        <td id=\"T_2e44ca6c_72e8_11ea_8635_0b7569a8188erow0_col2\" class=\"data row0 col2\" >0.828479</td>\n",
       "                        <td id=\"T_2e44ca6c_72e8_11ea_8635_0b7569a8188erow0_col3\" class=\"data row0 col3\" >0.593709</td>\n",
       "                        <td id=\"T_2e44ca6c_72e8_11ea_8635_0b7569a8188erow0_col4\" class=\"data row0 col4\" >0.494305</td>\n",
       "            </tr>\n",
       "            <tr>\n",
       "                        <th id=\"T_2e44ca6c_72e8_11ea_8635_0b7569a8188elevel0_row1\" class=\"row_heading level0 row1\" >SepalWidth</th>\n",
       "                        <td id=\"T_2e44ca6c_72e8_11ea_8635_0b7569a8188erow1_col0\" class=\"data row1 col0\" >0.553855</td>\n",
       "                        <td id=\"T_2e44ca6c_72e8_11ea_8635_0b7569a8188erow1_col1\" class=\"data row1 col1\" >1</td>\n",
       "                        <td id=\"T_2e44ca6c_72e8_11ea_8635_0b7569a8188erow1_col2\" class=\"data row1 col2\" >0.519802</td>\n",
       "                        <td id=\"T_2e44ca6c_72e8_11ea_8635_0b7569a8188erow1_col3\" class=\"data row1 col3\" >0.566203</td>\n",
       "                        <td id=\"T_2e44ca6c_72e8_11ea_8635_0b7569a8188erow1_col4\" class=\"data row1 col4\" >0.30808</td>\n",
       "            </tr>\n",
       "            <tr>\n",
       "                        <th id=\"T_2e44ca6c_72e8_11ea_8635_0b7569a8188elevel0_row2\" class=\"row_heading level0 row2\" >PetalLength</th>\n",
       "                        <td id=\"T_2e44ca6c_72e8_11ea_8635_0b7569a8188erow2_col0\" class=\"data row2 col0\" >0.828479</td>\n",
       "                        <td id=\"T_2e44ca6c_72e8_11ea_8635_0b7569a8188erow2_col1\" class=\"data row2 col1\" >0.519802</td>\n",
       "                        <td id=\"T_2e44ca6c_72e8_11ea_8635_0b7569a8188erow2_col2\" class=\"data row2 col2\" >1</td>\n",
       "                        <td id=\"T_2e44ca6c_72e8_11ea_8635_0b7569a8188erow2_col3\" class=\"data row2 col3\" >0.823348</td>\n",
       "                        <td id=\"T_2e44ca6c_72e8_11ea_8635_0b7569a8188erow2_col4\" class=\"data row2 col4\" >0.786424</td>\n",
       "            </tr>\n",
       "            <tr>\n",
       "                        <th id=\"T_2e44ca6c_72e8_11ea_8635_0b7569a8188elevel0_row3\" class=\"row_heading level0 row3\" >PetalWidth</th>\n",
       "                        <td id=\"T_2e44ca6c_72e8_11ea_8635_0b7569a8188erow3_col0\" class=\"data row3 col0\" >0.593709</td>\n",
       "                        <td id=\"T_2e44ca6c_72e8_11ea_8635_0b7569a8188erow3_col1\" class=\"data row3 col1\" >0.566203</td>\n",
       "                        <td id=\"T_2e44ca6c_72e8_11ea_8635_0b7569a8188erow3_col2\" class=\"data row3 col2\" >0.823348</td>\n",
       "                        <td id=\"T_2e44ca6c_72e8_11ea_8635_0b7569a8188erow3_col3\" class=\"data row3 col3\" >1</td>\n",
       "                        <td id=\"T_2e44ca6c_72e8_11ea_8635_0b7569a8188erow3_col4\" class=\"data row3 col4\" >0.828129</td>\n",
       "            </tr>\n",
       "            <tr>\n",
       "                        <th id=\"T_2e44ca6c_72e8_11ea_8635_0b7569a8188elevel0_row4\" class=\"row_heading level0 row4\" >Species</th>\n",
       "                        <td id=\"T_2e44ca6c_72e8_11ea_8635_0b7569a8188erow4_col0\" class=\"data row4 col0\" >0.494305</td>\n",
       "                        <td id=\"T_2e44ca6c_72e8_11ea_8635_0b7569a8188erow4_col1\" class=\"data row4 col1\" >0.30808</td>\n",
       "                        <td id=\"T_2e44ca6c_72e8_11ea_8635_0b7569a8188erow4_col2\" class=\"data row4 col2\" >0.786424</td>\n",
       "                        <td id=\"T_2e44ca6c_72e8_11ea_8635_0b7569a8188erow4_col3\" class=\"data row4 col3\" >0.828129</td>\n",
       "                        <td id=\"T_2e44ca6c_72e8_11ea_8635_0b7569a8188erow4_col4\" class=\"data row4 col4\" >1</td>\n",
       "            </tr>\n",
       "    </tbody></table>"
      ],
      "text/plain": [
       "<pandas.io.formats.style.Styler at 0x7f7ff0152f10>"
      ]
     },
     "execution_count": 138,
     "metadata": {},
     "output_type": "execute_result"
    }
   ],
   "source": [
    "correlation_data = iris_dataset.corr()\n",
    "correlation_data.style.background_gradient(cmap='coolwarm', axis=None)"
   ]
  },
  {
   "cell_type": "markdown",
   "metadata": {},
   "source": [
    "<h2> 5. Separa features y targets </h2>"
   ]
  },
  {
   "cell_type": "code",
   "execution_count": 139,
   "metadata": {},
   "outputs": [],
   "source": [
    "X_data = iris_dataset[[m for m in iris_dataset.columns if m not in ['Species']]]\n",
    "Y_data = iris_dataset[['Species']]"
   ]
  },
  {
   "cell_type": "markdown",
   "metadata": {},
   "source": [
    "<h2> 6. Divide los datos: entrenamiento y validación </h2>"
   ]
  },
  {
   "cell_type": "code",
   "execution_count": 140,
   "metadata": {},
   "outputs": [],
   "source": [
    "training_features , test_features ,training_labels, test_labels = train_test_split(X_data , Y_data , test_size=0.2)"
   ]
  },
  {
   "cell_type": "code",
   "execution_count": 141,
   "metadata": {},
   "outputs": [
    {
     "name": "stdout",
     "output_type": "stream",
     "text": [
      "No. of rows in Training Features:  80\n",
      "No. of rows in Test Features:  20\n",
      "No. of columns in Training Features:  4\n",
      "No. of columns in Test Features:  4\n",
      "No. of rows in Training Label:  80\n",
      "No. of rows in Test Label:  20\n",
      "No. of columns in Training Label:  1\n",
      "No. of columns in Test Label:  1\n"
     ]
    }
   ],
   "source": [
    "print('No. of rows in Training Features: ', training_features.shape[0])\n",
    "print('No. of rows in Test Features: ', test_features.shape[0])\n",
    "print('No. of columns in Training Features: ', training_features.shape[1])\n",
    "print('No. of columns in Test Features: ', test_features.shape[1])\n",
    "\n",
    "print('No. of rows in Training Label: ', training_labels.shape[0])\n",
    "print('No. of rows in Test Label: ', test_labels.shape[0])\n",
    "print('No. of columns in Training Label: ', training_labels.shape[1])\n",
    "print('No. of columns in Test Label: ', test_labels.shape[1])"
   ]
  },
  {
   "cell_type": "code",
   "execution_count": 142,
   "metadata": {},
   "outputs": [
    {
     "data": {
      "text/html": [
       "<div>\n",
       "<style scoped>\n",
       "    .dataframe tbody tr th:only-of-type {\n",
       "        vertical-align: middle;\n",
       "    }\n",
       "\n",
       "    .dataframe tbody tr th {\n",
       "        vertical-align: top;\n",
       "    }\n",
       "\n",
       "    .dataframe thead th {\n",
       "        text-align: right;\n",
       "    }\n",
       "</style>\n",
       "<table border=\"1\" class=\"dataframe\">\n",
       "  <thead>\n",
       "    <tr style=\"text-align: right;\">\n",
       "      <th></th>\n",
       "      <th>count</th>\n",
       "      <th>mean</th>\n",
       "      <th>std</th>\n",
       "      <th>min</th>\n",
       "      <th>25%</th>\n",
       "      <th>50%</th>\n",
       "      <th>75%</th>\n",
       "      <th>max</th>\n",
       "    </tr>\n",
       "  </thead>\n",
       "  <tbody>\n",
       "    <tr>\n",
       "      <th>SepalLength</th>\n",
       "      <td>80.0</td>\n",
       "      <td>6.26000</td>\n",
       "      <td>0.689450</td>\n",
       "      <td>4.9</td>\n",
       "      <td>5.775</td>\n",
       "      <td>6.25</td>\n",
       "      <td>6.7</td>\n",
       "      <td>7.9</td>\n",
       "    </tr>\n",
       "    <tr>\n",
       "      <th>SepalWidth</th>\n",
       "      <td>80.0</td>\n",
       "      <td>2.86750</td>\n",
       "      <td>0.333670</td>\n",
       "      <td>2.0</td>\n",
       "      <td>2.700</td>\n",
       "      <td>2.90</td>\n",
       "      <td>3.0</td>\n",
       "      <td>3.8</td>\n",
       "    </tr>\n",
       "    <tr>\n",
       "      <th>PetalLength</th>\n",
       "      <td>80.0</td>\n",
       "      <td>4.86500</td>\n",
       "      <td>0.841503</td>\n",
       "      <td>3.0</td>\n",
       "      <td>4.275</td>\n",
       "      <td>4.80</td>\n",
       "      <td>5.5</td>\n",
       "      <td>6.9</td>\n",
       "    </tr>\n",
       "    <tr>\n",
       "      <th>PetalWidth</th>\n",
       "      <td>80.0</td>\n",
       "      <td>1.64875</td>\n",
       "      <td>0.422768</td>\n",
       "      <td>1.0</td>\n",
       "      <td>1.300</td>\n",
       "      <td>1.55</td>\n",
       "      <td>2.0</td>\n",
       "      <td>2.5</td>\n",
       "    </tr>\n",
       "  </tbody>\n",
       "</table>\n",
       "</div>"
      ],
      "text/plain": [
       "             count     mean       std  min    25%   50%  75%  max\n",
       "SepalLength   80.0  6.26000  0.689450  4.9  5.775  6.25  6.7  7.9\n",
       "SepalWidth    80.0  2.86750  0.333670  2.0  2.700  2.90  3.0  3.8\n",
       "PetalLength   80.0  4.86500  0.841503  3.0  4.275  4.80  5.5  6.9\n",
       "PetalWidth    80.0  1.64875  0.422768  1.0  1.300  1.55  2.0  2.5"
      ]
     },
     "execution_count": 142,
     "metadata": {},
     "output_type": "execute_result"
    }
   ],
   "source": [
    "stats = training_features.describe()\n",
    "stats = stats.transpose()\n",
    "stats"
   ]
  },
  {
   "cell_type": "code",
   "execution_count": 143,
   "metadata": {},
   "outputs": [
    {
     "data": {
      "text/html": [
       "<div>\n",
       "<style scoped>\n",
       "    .dataframe tbody tr th:only-of-type {\n",
       "        vertical-align: middle;\n",
       "    }\n",
       "\n",
       "    .dataframe tbody tr th {\n",
       "        vertical-align: top;\n",
       "    }\n",
       "\n",
       "    .dataframe thead th {\n",
       "        text-align: right;\n",
       "    }\n",
       "</style>\n",
       "<table border=\"1\" class=\"dataframe\">\n",
       "  <thead>\n",
       "    <tr style=\"text-align: right;\">\n",
       "      <th></th>\n",
       "      <th>count</th>\n",
       "      <th>mean</th>\n",
       "      <th>std</th>\n",
       "      <th>min</th>\n",
       "      <th>25%</th>\n",
       "      <th>50%</th>\n",
       "      <th>75%</th>\n",
       "      <th>max</th>\n",
       "    </tr>\n",
       "  </thead>\n",
       "  <tbody>\n",
       "    <tr>\n",
       "      <th>SepalLength</th>\n",
       "      <td>20.0</td>\n",
       "      <td>6.270</td>\n",
       "      <td>0.559229</td>\n",
       "      <td>5.4</td>\n",
       "      <td>5.950</td>\n",
       "      <td>6.30</td>\n",
       "      <td>6.475</td>\n",
       "      <td>7.7</td>\n",
       "    </tr>\n",
       "    <tr>\n",
       "      <th>SepalWidth</th>\n",
       "      <td>20.0</td>\n",
       "      <td>2.890</td>\n",
       "      <td>0.337015</td>\n",
       "      <td>2.2</td>\n",
       "      <td>2.675</td>\n",
       "      <td>2.90</td>\n",
       "      <td>3.125</td>\n",
       "      <td>3.4</td>\n",
       "    </tr>\n",
       "    <tr>\n",
       "      <th>PetalLength</th>\n",
       "      <td>20.0</td>\n",
       "      <td>5.070</td>\n",
       "      <td>0.756098</td>\n",
       "      <td>3.5</td>\n",
       "      <td>4.650</td>\n",
       "      <td>5.05</td>\n",
       "      <td>5.600</td>\n",
       "      <td>6.7</td>\n",
       "    </tr>\n",
       "    <tr>\n",
       "      <th>PetalWidth</th>\n",
       "      <td>20.0</td>\n",
       "      <td>1.785</td>\n",
       "      <td>0.425843</td>\n",
       "      <td>1.0</td>\n",
       "      <td>1.500</td>\n",
       "      <td>1.75</td>\n",
       "      <td>2.050</td>\n",
       "      <td>2.5</td>\n",
       "    </tr>\n",
       "  </tbody>\n",
       "</table>\n",
       "</div>"
      ],
      "text/plain": [
       "             count   mean       std  min    25%   50%    75%  max\n",
       "SepalLength   20.0  6.270  0.559229  5.4  5.950  6.30  6.475  7.7\n",
       "SepalWidth    20.0  2.890  0.337015  2.2  2.675  2.90  3.125  3.4\n",
       "PetalLength   20.0  5.070  0.756098  3.5  4.650  5.05  5.600  6.7\n",
       "PetalWidth    20.0  1.785  0.425843  1.0  1.500  1.75  2.050  2.5"
      ]
     },
     "execution_count": 143,
     "metadata": {},
     "output_type": "execute_result"
    }
   ],
   "source": [
    "stats = test_features.describe()\n",
    "stats = stats.transpose()\n",
    "stats"
   ]
  },
  {
   "cell_type": "markdown",
   "metadata": {},
   "source": [
    "<h2> 8. Normaliza los datos</h2>"
   ]
  },
  {
   "cell_type": "code",
   "execution_count": 144,
   "metadata": {},
   "outputs": [],
   "source": [
    "def norm(x):\n",
    "  stats = x.describe()\n",
    "  stats = stats.transpose()\n",
    "  return (x - stats['mean']) / stats['std']\n",
    "\n",
    "normed_train_features = norm(training_features)\n",
    "normed_test_features = norm(test_features)"
   ]
  },
  {
   "cell_type": "markdown",
   "metadata": {},
   "source": [
    "<h2> 9. Construye la tuberia (pipeline) para la alimentación de datos de Tensorflow</h2>"
   ]
  },
  {
   "cell_type": "code",
   "execution_count": 145,
   "metadata": {},
   "outputs": [],
   "source": [
    "def feed_input(features_dataframe, target_dataframe, num_of_epochs=10, shuffle=True, batch_size=32):\n",
    "  def input_feed_function():\n",
    "    dataset = tf.data.Dataset.from_tensor_slices((dict(features_dataframe), target_dataframe))\n",
    "    if shuffle:\n",
    "      dataset = dataset.shuffle(2000)\n",
    "    dataset = dataset.batch(batch_size).repeat(num_of_epochs)\n",
    "    return dataset\n",
    "  return input_feed_function\n",
    "\n",
    "train_feed_input = feed_input(normed_train_features, training_labels)\n",
    "train_feed_input_testing = feed_input(normed_train_features, training_labels, num_of_epochs=1, shuffle=False)\n",
    "test_feed_input = feed_input(normed_test_features, test_labels, num_of_epochs=1, shuffle=False)"
   ]
  },
  {
   "cell_type": "markdown",
   "metadata": {},
   "source": [
    "<h2> 10. Entrenamiento del Modelo</h2>"
   ]
  },
  {
   "cell_type": "code",
   "execution_count": 146,
   "metadata": {},
   "outputs": [],
   "source": [
    "feature_columns_numeric = [tf.feature_column.numeric_column(m) for m in training_features.columns]"
   ]
  },
  {
   "cell_type": "code",
   "execution_count": 147,
   "metadata": {},
   "outputs": [
    {
     "name": "stdout",
     "output_type": "stream",
     "text": [
      "INFO:tensorflow:Using default config.\n",
      "WARNING:tensorflow:Using temporary folder as model directory: /tmp/tmp_9esi7oq\n",
      "INFO:tensorflow:Using config: {'_model_dir': '/tmp/tmp_9esi7oq', '_tf_random_seed': None, '_save_summary_steps': 100, '_save_checkpoints_steps': None, '_save_checkpoints_secs': 600, '_session_config': allow_soft_placement: true\n",
      "graph_options {\n",
      "  rewrite_options {\n",
      "    meta_optimizer_iterations: ONE\n",
      "  }\n",
      "}\n",
      ", '_keep_checkpoint_max': 5, '_keep_checkpoint_every_n_hours': 10000, '_log_step_count_steps': 100, '_train_distribute': None, '_device_fn': None, '_protocol': None, '_eval_distribute': None, '_experimental_distribute': None, '_experimental_max_worker_delay_secs': None, '_session_creation_timeout_secs': 7200, '_service': None, '_cluster_spec': ClusterSpec({}), '_task_type': 'worker', '_task_id': 0, '_global_id_in_cluster': 0, '_master': '', '_evaluation_master': '', '_is_chief': True, '_num_ps_replicas': 0, '_num_worker_replicas': 1}\n"
     ]
    }
   ],
   "source": [
    "logistic_model = LinearClassifier(feature_columns=feature_columns_numeric)"
   ]
  },
  {
   "cell_type": "code",
   "execution_count": 148,
   "metadata": {},
   "outputs": [
    {
     "name": "stdout",
     "output_type": "stream",
     "text": [
      "INFO:tensorflow:Calling model_fn.\n",
      "WARNING:tensorflow:Layer linear/linear_model is casting an input tensor from dtype float64 to the layer's dtype of float32, which is new behavior in TensorFlow 2.  The layer has dtype float32 because it's dtype defaults to floatx.\n",
      "\n",
      "If you intended to run this layer in float32, you can safely ignore this warning. If in doubt, this warning is likely only an issue if you are porting a TensorFlow 1.X model to TensorFlow 2.\n",
      "\n",
      "To change all layers to have dtype float64 by default, call `tf.keras.backend.set_floatx('float64')`. To change just this layer, pass dtype='float64' to the layer constructor. If you are the author of this layer, you can disable autocasting by passing autocast=False to the base Layer constructor.\n",
      "\n",
      "INFO:tensorflow:Done calling model_fn.\n",
      "INFO:tensorflow:Create CheckpointSaverHook.\n",
      "INFO:tensorflow:Graph was finalized.\n",
      "INFO:tensorflow:Running local_init_op.\n",
      "INFO:tensorflow:Done running local_init_op.\n",
      "INFO:tensorflow:Saving checkpoints for 0 into /tmp/tmp_9esi7oq/model.ckpt.\n",
      "INFO:tensorflow:loss = 0.6931472, step = 0\n",
      "INFO:tensorflow:Saving checkpoints for 30 into /tmp/tmp_9esi7oq/model.ckpt.\n",
      "INFO:tensorflow:Loss for final step: 0.17787997.\n"
     ]
    },
    {
     "data": {
      "text/plain": [
       "<tensorflow_estimator.python.estimator.canned.linear.LinearClassifierV2 at 0x7f7ff017c310>"
      ]
     },
     "execution_count": 148,
     "metadata": {},
     "output_type": "execute_result"
    }
   ],
   "source": [
    "logistic_model.train(train_feed_input)"
   ]
  },
  {
   "cell_type": "markdown",
   "metadata": {},
   "source": [
    "<h2> 11. Predicciones</h2>"
   ]
  },
  {
   "cell_type": "code",
   "execution_count": 150,
   "metadata": {},
   "outputs": [],
   "source": [
    "train_predictions = logistic_model.predict(train_feed_input_testing)\n",
    "test_predictions = logistic_model.predict(test_feed_input)"
   ]
  },
  {
   "cell_type": "code",
   "execution_count": 151,
   "metadata": {},
   "outputs": [
    {
     "name": "stdout",
     "output_type": "stream",
     "text": [
      "INFO:tensorflow:Calling model_fn.\n",
      "WARNING:tensorflow:Layer linear/linear_model is casting an input tensor from dtype float64 to the layer's dtype of float32, which is new behavior in TensorFlow 2.  The layer has dtype float32 because it's dtype defaults to floatx.\n",
      "\n",
      "If you intended to run this layer in float32, you can safely ignore this warning. If in doubt, this warning is likely only an issue if you are porting a TensorFlow 1.X model to TensorFlow 2.\n",
      "\n",
      "To change all layers to have dtype float64 by default, call `tf.keras.backend.set_floatx('float64')`. To change just this layer, pass dtype='float64' to the layer constructor. If you are the author of this layer, you can disable autocasting by passing autocast=False to the base Layer constructor.\n",
      "\n",
      "INFO:tensorflow:Done calling model_fn.\n",
      "INFO:tensorflow:Graph was finalized.\n",
      "INFO:tensorflow:Restoring parameters from /tmp/tmp_9esi7oq/model.ckpt-30\n",
      "INFO:tensorflow:Running local_init_op.\n",
      "INFO:tensorflow:Done running local_init_op.\n",
      "INFO:tensorflow:Calling model_fn.\n",
      "WARNING:tensorflow:Layer linear/linear_model is casting an input tensor from dtype float64 to the layer's dtype of float32, which is new behavior in TensorFlow 2.  The layer has dtype float32 because it's dtype defaults to floatx.\n",
      "\n",
      "If you intended to run this layer in float32, you can safely ignore this warning. If in doubt, this warning is likely only an issue if you are porting a TensorFlow 1.X model to TensorFlow 2.\n",
      "\n",
      "To change all layers to have dtype float64 by default, call `tf.keras.backend.set_floatx('float64')`. To change just this layer, pass dtype='float64' to the layer constructor. If you are the author of this layer, you can disable autocasting by passing autocast=False to the base Layer constructor.\n",
      "\n",
      "INFO:tensorflow:Done calling model_fn.\n",
      "INFO:tensorflow:Graph was finalized.\n",
      "INFO:tensorflow:Restoring parameters from /tmp/tmp_9esi7oq/model.ckpt-30\n",
      "INFO:tensorflow:Running local_init_op.\n",
      "INFO:tensorflow:Done running local_init_op.\n"
     ]
    }
   ],
   "source": [
    "train_predictions_series = pd.Series([p['classes'][0].decode(\"utf-8\")   for p in train_predictions])\n",
    "test_predictions_series = pd.Series([p['classes'][0].decode(\"utf-8\")   for p in test_predictions])"
   ]
  },
  {
   "cell_type": "code",
   "execution_count": 152,
   "metadata": {},
   "outputs": [],
   "source": [
    "train_predictions_df = pd.DataFrame(train_predictions_series, columns=['predictions'])\n",
    "test_predictions_df = pd.DataFrame(test_predictions_series, columns=['predictions'])"
   ]
  },
  {
   "cell_type": "code",
   "execution_count": 153,
   "metadata": {},
   "outputs": [],
   "source": [
    "training_labels.reset_index(drop=True, inplace=True)\n",
    "train_predictions_df.reset_index(drop=True, inplace=True)\n",
    "\n",
    "test_labels.reset_index(drop=True, inplace=True)\n",
    "test_predictions_df.reset_index(drop=True, inplace=True)"
   ]
  },
  {
   "cell_type": "code",
   "execution_count": 154,
   "metadata": {},
   "outputs": [],
   "source": [
    "train_labels_with_predictions_df = pd.concat([training_labels, train_predictions_df], axis=1)\n",
    "test_labels_with_predictions_df = pd.concat([test_labels, test_predictions_df], axis=1)"
   ]
  },
  {
   "cell_type": "markdown",
   "metadata": {},
   "source": [
    "<h2> 12. Validación</h2>"
   ]
  },
  {
   "cell_type": "code",
   "execution_count": 155,
   "metadata": {},
   "outputs": [],
   "source": [
    "def calculate_binary_class_scores(y_true, y_pred):\n",
    "  accuracy = accuracy_score(y_true, y_pred.astype('int64'))\n",
    "  precision = precision_score(y_true, y_pred.astype('int64'))\n",
    "  recall = recall_score(y_true, y_pred.astype('int64'))\n",
    "  return accuracy, precision, recall"
   ]
  },
  {
   "cell_type": "markdown",
   "metadata": {},
   "source": [
    "- **accuracy_score**: En la clasificación con múltiples etiquetas, esta función calcula la precisión del subconjunto: el conjunto de etiquetas predichas para una muestra que coincide exactamente con el conjunto de etiquetas correspondiente en y_true.\n",
    "- **precision_score**: es la razón $\\frac{tp }{tp + fp}$ en donde $tp$ es el número de positivos verdadero y $fp$ el número de falsos positivos. El mejor valor es 1 y el peor valor es 0.\n",
    "- **recall_score**:  es la relación $\\frac{tp }{tp + fn}$ donde $tp$ es el número de verdaderos positivos y $fn$ el número de falsos negativos. El recuerdo es intuitivamente la capacidad del clasificador para encontrar todas las muestras positivas. El mejor valor es 1 y el peor valor es 0."
   ]
  },
  {
   "cell_type": "code",
   "execution_count": 156,
   "metadata": {},
   "outputs": [
    {
     "name": "stdout",
     "output_type": "stream",
     "text": [
      "Training Data Accuracy (%) =  98.75\n",
      "Training Data Precision (%) =  100.0\n",
      "Training Data Recall (%) =  97.44\n",
      "--------------------------------------------------\n",
      "Test Data Accuracy (%) =  90.0\n",
      "Test Data Precision (%) =  100.0\n",
      "Test Data Recall (%) =  81.82\n"
     ]
    }
   ],
   "source": [
    "train_accuracy_score, train_precision_score, train_recall_score = calculate_binary_class_scores(training_labels, train_predictions_series)\n",
    "test_accuracy_score, test_precision_score, test_recall_score = calculate_binary_class_scores(test_labels, test_predictions_series)\n",
    "\n",
    "print('Training Data Accuracy (%) = ', round(train_accuracy_score*100,2))\n",
    "print('Training Data Precision (%) = ', round(train_precision_score*100,2))\n",
    "print('Training Data Recall (%) = ', round(train_recall_score*100,2))\n",
    "print('-'*50)\n",
    "print('Test Data Accuracy (%) = ', round(test_accuracy_score*100,2))\n",
    "print('Test Data Precision (%) = ', round(test_precision_score*100,2))\n",
    "print('Test Data Recall (%) = ', round(test_recall_score*100,2))\n"
   ]
  },
  {
   "cell_type": "code",
   "execution_count": 134,
   "metadata": {},
   "outputs": [
    {
     "data": {
      "text/plain": [
       "0     1\n",
       "1     1\n",
       "2     0\n",
       "3     1\n",
       "4     1\n",
       "     ..\n",
       "75    1\n",
       "76    1\n",
       "77    1\n",
       "78    1\n",
       "79    0\n",
       "Length: 80, dtype: object"
      ]
     },
     "execution_count": 134,
     "metadata": {},
     "output_type": "execute_result"
    }
   ],
   "source": [
    "train_predictions_series"
   ]
  },
  {
   "cell_type": "code",
   "execution_count": 135,
   "metadata": {},
   "outputs": [
    {
     "data": {
      "text/html": [
       "<div>\n",
       "<style scoped>\n",
       "    .dataframe tbody tr th:only-of-type {\n",
       "        vertical-align: middle;\n",
       "    }\n",
       "\n",
       "    .dataframe tbody tr th {\n",
       "        vertical-align: top;\n",
       "    }\n",
       "\n",
       "    .dataframe thead th {\n",
       "        text-align: right;\n",
       "    }\n",
       "</style>\n",
       "<table border=\"1\" class=\"dataframe\">\n",
       "  <thead>\n",
       "    <tr style=\"text-align: right;\">\n",
       "      <th></th>\n",
       "      <th>predictions</th>\n",
       "    </tr>\n",
       "  </thead>\n",
       "  <tbody>\n",
       "    <tr>\n",
       "      <th>0</th>\n",
       "      <td>1</td>\n",
       "    </tr>\n",
       "    <tr>\n",
       "      <th>1</th>\n",
       "      <td>1</td>\n",
       "    </tr>\n",
       "    <tr>\n",
       "      <th>2</th>\n",
       "      <td>0</td>\n",
       "    </tr>\n",
       "    <tr>\n",
       "      <th>3</th>\n",
       "      <td>1</td>\n",
       "    </tr>\n",
       "    <tr>\n",
       "      <th>4</th>\n",
       "      <td>1</td>\n",
       "    </tr>\n",
       "    <tr>\n",
       "      <th>...</th>\n",
       "      <td>...</td>\n",
       "    </tr>\n",
       "    <tr>\n",
       "      <th>75</th>\n",
       "      <td>1</td>\n",
       "    </tr>\n",
       "    <tr>\n",
       "      <th>76</th>\n",
       "      <td>1</td>\n",
       "    </tr>\n",
       "    <tr>\n",
       "      <th>77</th>\n",
       "      <td>1</td>\n",
       "    </tr>\n",
       "    <tr>\n",
       "      <th>78</th>\n",
       "      <td>1</td>\n",
       "    </tr>\n",
       "    <tr>\n",
       "      <th>79</th>\n",
       "      <td>0</td>\n",
       "    </tr>\n",
       "  </tbody>\n",
       "</table>\n",
       "<p>80 rows × 1 columns</p>\n",
       "</div>"
      ],
      "text/plain": [
       "   predictions\n",
       "0            1\n",
       "1            1\n",
       "2            0\n",
       "3            1\n",
       "4            1\n",
       "..         ...\n",
       "75           1\n",
       "76           1\n",
       "77           1\n",
       "78           1\n",
       "79           0\n",
       "\n",
       "[80 rows x 1 columns]"
      ]
     },
     "execution_count": 135,
     "metadata": {},
     "output_type": "execute_result"
    }
   ],
   "source": [
    "train_predictions_df "
   ]
  },
  {
   "cell_type": "code",
   "execution_count": null,
   "metadata": {},
   "outputs": [],
   "source": []
  }
 ],
 "metadata": {
  "kernelspec": {
   "display_name": "Python 3",
   "language": "python",
   "name": "python3"
  },
  "language_info": {
   "codemirror_mode": {
    "name": "ipython",
    "version": 3
   },
   "file_extension": ".py",
   "mimetype": "text/x-python",
   "name": "python",
   "nbconvert_exporter": "python",
   "pygments_lexer": "ipython3",
   "version": "3.7.5"
  }
 },
 "nbformat": 4,
 "nbformat_minor": 4
}
