{
 "cells": [
  {
   "cell_type": "markdown",
   "metadata": {},
   "source": [
    "<a id='TOC'></a>\n",
    "# Tabla de Contenidos\n",
    "\n",
    "[Construyendo Red](#Construyendo-Red-Neuronal-(Modelamiento/Diseño))"
   ]
  },
  {
   "cell_type": "markdown",
   "metadata": {},
   "source": [
    "# **Importando Librerías Necesarias**"
   ]
  },
  {
   "cell_type": "code",
   "execution_count": 1,
   "metadata": {
    "colab": {
     "base_uri": "https://localhost:8080/",
     "height": 63
    },
    "colab_type": "code",
    "executionInfo": {
     "elapsed": 2355,
     "status": "ok",
     "timestamp": 1580431002432,
     "user": {
      "displayName": "daniel mauricio montenegro reyes",
      "photoUrl": "",
      "userId": "12701434767844263388"
     },
     "user_tz": 300
    },
    "id": "Xw_HPTp2mdI5",
    "outputId": "f1196ae6-72fe-4cca-9e4b-b9e43c40ce03"
   },
   "outputs": [],
   "source": [
    "import tensorflow as tf\n",
    "import numpy as np\n",
    "import pandas as pd\n",
    "import matplotlib.pyplot as plt\n",
    "from tensorflow import keras"
   ]
  },
  {
   "cell_type": "markdown",
   "metadata": {},
   "source": [
    "# **Simulando Datos**"
   ]
  },
  {
   "cell_type": "code",
   "execution_count": 2,
   "metadata": {
    "colab": {},
    "colab_type": "code",
    "id": "TeIrLG2-mrIh"
   },
   "outputs": [
    {
     "data": {
      "text/html": [
       "<div>\n",
       "<style scoped>\n",
       "    .dataframe tbody tr th:only-of-type {\n",
       "        vertical-align: middle;\n",
       "    }\n",
       "\n",
       "    .dataframe tbody tr th {\n",
       "        vertical-align: top;\n",
       "    }\n",
       "\n",
       "    .dataframe thead th {\n",
       "        text-align: right;\n",
       "    }\n",
       "</style>\n",
       "<table border=\"1\" class=\"dataframe\">\n",
       "  <thead>\n",
       "    <tr style=\"text-align: right;\">\n",
       "      <th></th>\n",
       "      <th>x</th>\n",
       "      <th>y</th>\n",
       "    </tr>\n",
       "  </thead>\n",
       "  <tbody>\n",
       "    <tr>\n",
       "      <th>0</th>\n",
       "      <td>-10.000000</td>\n",
       "      <td>-17.999036</td>\n",
       "    </tr>\n",
       "    <tr>\n",
       "      <th>1</th>\n",
       "      <td>-9.797980</td>\n",
       "      <td>-19.518520</td>\n",
       "    </tr>\n",
       "    <tr>\n",
       "      <th>2</th>\n",
       "      <td>-9.595960</td>\n",
       "      <td>-21.524777</td>\n",
       "    </tr>\n",
       "    <tr>\n",
       "      <th>3</th>\n",
       "      <td>-9.393939</td>\n",
       "      <td>-15.941977</td>\n",
       "    </tr>\n",
       "    <tr>\n",
       "      <th>4</th>\n",
       "      <td>-9.191919</td>\n",
       "      <td>-16.278823</td>\n",
       "    </tr>\n",
       "    <tr>\n",
       "      <th>...</th>\n",
       "      <td>...</td>\n",
       "      <td>...</td>\n",
       "    </tr>\n",
       "    <tr>\n",
       "      <th>95</th>\n",
       "      <td>9.191919</td>\n",
       "      <td>18.960197</td>\n",
       "    </tr>\n",
       "    <tr>\n",
       "      <th>96</th>\n",
       "      <td>9.393939</td>\n",
       "      <td>13.618120</td>\n",
       "    </tr>\n",
       "    <tr>\n",
       "      <th>97</th>\n",
       "      <td>9.595960</td>\n",
       "      <td>20.575697</td>\n",
       "    </tr>\n",
       "    <tr>\n",
       "      <th>98</th>\n",
       "      <td>9.797980</td>\n",
       "      <td>16.339859</td>\n",
       "    </tr>\n",
       "    <tr>\n",
       "      <th>99</th>\n",
       "      <td>10.000000</td>\n",
       "      <td>25.470135</td>\n",
       "    </tr>\n",
       "  </tbody>\n",
       "</table>\n",
       "<p>100 rows × 2 columns</p>\n",
       "</div>"
      ],
      "text/plain": [
       "            x          y\n",
       "0  -10.000000 -17.999036\n",
       "1   -9.797980 -19.518520\n",
       "2   -9.595960 -21.524777\n",
       "3   -9.393939 -15.941977\n",
       "4   -9.191919 -16.278823\n",
       "..        ...        ...\n",
       "95   9.191919  18.960197\n",
       "96   9.393939  13.618120\n",
       "97   9.595960  20.575697\n",
       "98   9.797980  16.339859\n",
       "99  10.000000  25.470135\n",
       "\n",
       "[100 rows x 2 columns]"
      ]
     },
     "execution_count": 2,
     "metadata": {},
     "output_type": "execute_result"
    }
   ],
   "source": [
    "np.random.seed(23)\n",
    "# Crear Eje x\n",
    "x=np.linspace(-10,10,100)\n",
    "#Crear Observaciones\n",
    "y=2*x+3*np.random.normal(0,1,size=len(x))\n",
    "\n",
    "#Crear DataFrame\n",
    "datos=pd.DataFrame(np.vstack((x,y)).T, columns=['x','y'])\n",
    "#Ver datos\n",
    "datos"
   ]
  },
  {
   "cell_type": "markdown",
   "metadata": {},
   "source": [
    "# **Visualizar Datos**"
   ]
  },
  {
   "cell_type": "code",
   "execution_count": 3,
   "metadata": {
    "colab": {
     "base_uri": "https://localhost:8080/",
     "height": 265
    },
    "colab_type": "code",
    "executionInfo": {
     "elapsed": 1358,
     "status": "ok",
     "timestamp": 1580431010294,
     "user": {
      "displayName": "daniel mauricio montenegro reyes",
      "photoUrl": "",
      "userId": "12701434767844263388"
     },
     "user_tz": 300
    },
    "id": "KnFMyK7lnbCo",
    "outputId": "c9e1be71-d81f-44e1-9e64-c4fc3da5545d"
   },
   "outputs": [
    {
     "data": {
      "image/png": "[encoded data removed]",
      "text/plain": [
       "<Figure size 1080x576 with 1 Axes>"
      ]
     },
     "metadata": {
      "needs_background": "light"
     },
     "output_type": "display_data"
    }
   ],
   "source": [
    "plt.figure(figsize=(15,8))\n",
    "plt.title(\"Visualización de Datos\",fontsize=25)\n",
    "plt.plot(x,y,'o')\n",
    "plt.legend([\"Datos\"],fontsize=15)\n",
    "plt.xlabel(\"$x$\",fontsize=15)\n",
    "plt.ylabel(\"$y$\",fontsize=15)\n",
    "plt.grid()\n",
    "plt.show()"
   ]
  },
  {
   "cell_type": "markdown",
   "metadata": {},
   "source": [
    "\n",
    "# **Construyendo Red Neuronal (Modelamiento/Diseño)**\n",
    "[Contenido](#TOC)"
   ]
  },
  {
   "cell_type": "code",
   "execution_count": 4,
   "metadata": {
    "colab": {
     "base_uri": "https://localhost:8080/",
     "height": 88
    },
    "colab_type": "code",
    "executionInfo": {
     "elapsed": 1363,
     "status": "ok",
     "timestamp": 1580431330284,
     "user": {
      "displayName": "daniel mauricio montenegro reyes",
      "photoUrl": "",
      "userId": "12701434767844263388"
     },
     "user_tz": 300
    },
    "id": "TOUZu3STmkFJ",
    "outputId": "9f702552-de1c-40ef-af1c-250e0e7977af"
   },
   "outputs": [],
   "source": [
    "# Crear Modelo (Diseño/Arquitectura)\n",
    "\n",
    "model = keras.Sequential([\n",
    "    keras.layers.Dense(units=1,input_shape=(1,))\n",
    "])"
   ]
  },
  {
   "cell_type": "markdown",
   "metadata": {},
   "source": [
    "# **Compilando Red Neuronal**"
   ]
  },
  {
   "cell_type": "code",
   "execution_count": 5,
   "metadata": {
    "colab": {
     "base_uri": "https://localhost:8080/",
     "height": 88
    },
    "colab_type": "code",
    "executionInfo": {
     "elapsed": 1363,
     "status": "ok",
     "timestamp": 1580431330284,
     "user": {
      "displayName": "daniel mauricio montenegro reyes",
      "photoUrl": "",
      "userId": "12701434767844263388"
     },
     "user_tz": 300
    },
    "id": "TOUZu3STmkFJ",
    "outputId": "9f702552-de1c-40ef-af1c-250e0e7977af"
   },
   "outputs": [],
   "source": [
    "# Compilar Modelo\n",
    "\n",
    "model.compile(optimizer='sgd', loss='mean_squared_error')"
   ]
  },
  {
   "cell_type": "markdown",
   "metadata": {},
   "source": [
    "# **Mirando el Resumen de la Red Neuronal**"
   ]
  },
  {
   "cell_type": "code",
   "execution_count": 6,
   "metadata": {},
   "outputs": [
    {
     "name": "stdout",
     "output_type": "stream",
     "text": [
      "Model: \"sequential\"\n",
      "_________________________________________________________________\n",
      "Layer (type)                 Output Shape              Param #   \n",
      "=================================================================\n",
      "dense (Dense)                (None, 1)                 2         \n",
      "=================================================================\n",
      "Total params: 2\n",
      "Trainable params: 2\n",
      "Non-trainable params: 0\n",
      "_________________________________________________________________\n"
     ]
    }
   ],
   "source": [
    "# Resumen para tener control de los parámetros a \"entrenar\"\n",
    "model.summary()"
   ]
  },
  {
   "cell_type": "markdown",
   "metadata": {},
   "source": [
    "# **Entrenando Red Neuronal (Fancy para \"Hacer la Regresión\")**"
   ]
  },
  {
   "cell_type": "code",
   "execution_count": 7,
   "metadata": {
    "colab": {
     "base_uri": "https://localhost:8080/",
     "height": 1000
    },
    "colab_type": "code",
    "executionInfo": {
     "elapsed": 3756,
     "status": "ok",
     "timestamp": 1580431417446,
     "user": {
      "displayName": "daniel mauricio montenegro reyes",
      "photoUrl": "",
      "userId": "12701434767844263388"
     },
     "user_tz": 300
    },
    "id": "xSXJhjdnmpJf",
    "outputId": "76d06e60-3f82-4a8b-f0f9-1105d3cfbcbf"
   },
   "outputs": [
    {
     "data": {
      "text/plain": [
       "<tensorflow.python.keras.callbacks.History at 0x7f1c9015cdc0>"
      ]
     },
     "execution_count": 7,
     "metadata": {},
     "output_type": "execute_result"
    }
   ],
   "source": [
    "model.fit(x, y, epochs=100,verbose=0)"
   ]
  },
  {
   "cell_type": "markdown",
   "metadata": {},
   "source": [
    "# **Visualizar Resultados de la Red**"
   ]
  },
  {
   "cell_type": "code",
   "execution_count": 8,
   "metadata": {
    "colab": {
     "base_uri": "https://localhost:8080/",
     "height": 170
    },
    "colab_type": "code",
    "executionInfo": {
     "elapsed": 6649,
     "status": "ok",
     "timestamp": 1580431523986,
     "user": {
      "displayName": "daniel mauricio montenegro reyes",
      "photoUrl": "",
      "userId": "12701434767844263388"
     },
     "user_tz": 300
    },
    "id": "qEoFzGI6oKo-",
    "outputId": "1a30e626-439e-4ec2-b487-32b6767538e7"
   },
   "outputs": [
    {
     "name": "stdout",
     "output_type": "stream",
     "text": [
      "\n",
      "Objeto Pesos: [array([[2.0872936]], dtype=float32), array([0.2659093], dtype=float32)]\n",
      "\n",
      "Number of Weights -> 2\n",
      "\n",
      "w1 = [2.0872936](Weight)\n",
      "w0 = [0.2659093](\"Weight\"->Bias)\n",
      "\n",
      "The Model is: y = w1*x+w0:\n",
      "\n",
      "y = 2.0872936248779297*x+0.2659093141555786\n"
     ]
    }
   ],
   "source": [
    "#Obtener Pesos de la Red\n",
    "w=model.get_weights()\n",
    "\n",
    "print(\"\\nObjeto Pesos:\",w)\n",
    "print('\\nNumber of Weights -> '+ str(len(w)))\n",
    "print('\\nw1 = ' + str(w[0][0]) +'(Weight)')\n",
    "print('w0 = ' + str(w[1])+'(\"Weight\"->Bias)')\n",
    "print('\\nThe Model is: y = w1*x+w0:')\n",
    "print('\\ny = {}*x+{}'.format(w[0].item(),w[1].item()))\n",
    "\n",
    "# Crear Modelo a las Malas\n",
    "x = np.linspace(x[0],x[-1],100)\n",
    "# Anonymous Function\n",
    "reg = lambda x: np.transpose(w[0]*x+w[1])"
   ]
  },
  {
   "cell_type": "markdown",
   "metadata": {},
   "source": [
    "# **Predecir valores DENTRO de los datos (Ver Regresión)**"
   ]
  },
  {
   "cell_type": "code",
   "execution_count": 9,
   "metadata": {
    "colab": {
     "base_uri": "https://localhost:8080/",
     "height": 281
    },
    "colab_type": "code",
    "executionInfo": {
     "elapsed": 2954,
     "status": "ok",
     "timestamp": 1573414392542,
     "user": {
      "displayName": "Daniel Montenegro",
      "photoUrl": "",
      "userId": "07275166318289302366"
     },
     "user_tz": 300
    },
    "id": "ywRRLv9Dn6i-",
    "outputId": "0b49acc4-328c-4113-ad75-e74281be9ad0"
   },
   "outputs": [
    {
     "data": {
      "image/png": "[encoded data removed]",
      "text/plain": [
       "<Figure size 1080x576 with 1 Axes>"
      ]
     },
     "metadata": {
      "needs_background": "light"
     },
     "output_type": "display_data"
    }
   ],
   "source": [
    "plt.figure(figsize=(15,8))\n",
    "plt.plot(x,reg(x),'r-',label='Modelo: y={:.2f}x{:.2f}'.format(w[0].item(),w[1].item()))\n",
    "plt.plot(x,y,'o', label='Datos')\n",
    "plt.title('Plotting Model vs Data',fontsize=20)\n",
    "plt.xlabel(\"$x$\",fontsize=15)\n",
    "plt.ylabel(\"$y$\",fontsize=15)\n",
    "plt.legend(loc=0,fontsize=15)\n",
    "plt.grid()\n",
    "plt.show()"
   ]
  },
  {
   "cell_type": "markdown",
   "metadata": {},
   "source": [
    "# **Predecir valores FUERA de los datos (Usar Modelo)**"
   ]
  },
  {
   "cell_type": "code",
   "execution_count": 10,
   "metadata": {
    "colab": {
     "base_uri": "https://localhost:8080/",
     "height": 315
    },
    "colab_type": "code",
    "executionInfo": {
     "elapsed": 3151,
     "status": "ok",
     "timestamp": 1573414392754,
     "user": {
      "displayName": "Daniel Montenegro",
      "photoUrl": "",
      "userId": "07275166318289302366"
     },
     "user_tz": 300
    },
    "id": "4_8QQd0JnNCf",
    "outputId": "13add40a-f0f7-463e-d78e-9f25b323ac05"
   },
   "outputs": [
    {
     "name": "stdout",
     "output_type": "stream",
     "text": [
      " La Predicción en x = 11 es [[23.22614]]\n"
     ]
    },
    {
     "data": {
      "image/png": "[encoded data removed]",
      "text/plain": [
       "<Figure size 1080x576 with 1 Axes>"
      ]
     },
     "metadata": {
      "needs_background": "light"
     },
     "output_type": "display_data"
    }
   ],
   "source": [
    "# Predicción\n",
    "\n",
    "#Punto fuera de los datos de entrenamiento (MUY IMPORTANTE)\n",
    "x_test=[11.0]\n",
    "\n",
    "# Predecir valor usando el Modelo generado del entrenamiento\n",
    "pred = model.predict(x_test)\n",
    "print(' La Predicción en x = 11 es '+str(pred))\n",
    "\n",
    "# Aumentar Resolución del Modelo Fuera de los Datos\n",
    "x_model=np.linspace(-12,12,100)\n",
    "\n",
    "\n",
    "plt.figure(figsize=(15,8))\n",
    "plt.plot(x_model,reg(x_model),'r-',label='Modelo')\n",
    "plt.plot(x,y,'o', label='Datos')\n",
    "plt.plot(x_test,pred,'ko', label='Predicción')\n",
    "plt.title('Prediciendo el Futuro',fontsize=20)\n",
    "plt.legend(loc=0,fontsize=15)\n",
    "plt.grid()\n",
    "plt.show()"
   ]
  }
 ],
 "metadata": {
  "colab": {
   "collapsed_sections": [],
   "name": "Hello_World_ML.ipynb",
   "provenance": []
  },
  "kernelspec": {
   "display_name": "Python 3",
   "language": "python",
   "name": "python3"
  },
  "language_info": {
   "codemirror_mode": {
    "name": "ipython",
    "version": 3
   },
   "file_extension": ".py",
   "mimetype": "text/x-python",
   "name": "python",
   "nbconvert_exporter": "python",
   "pygments_lexer": "ipython3",
   "version": "3.8.3"
  },
  "toc-autonumbering": true,
  "toc-showcode": false,
  "toc-showmarkdowntxt": false
 },
 "nbformat": 4,
 "nbformat_minor": 4
}
